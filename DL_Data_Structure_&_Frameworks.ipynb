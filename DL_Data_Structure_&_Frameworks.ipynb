{
  "nbformat": 4,
  "nbformat_minor": 0,
  "metadata": {
    "colab": {
      "provenance": [],
      "include_colab_link": true
    },
    "kernelspec": {
      "name": "python3",
      "display_name": "Python 3"
    },
    "language_info": {
      "name": "python"
    }
  },
  "cells": [
    {
      "cell_type": "markdown",
      "metadata": {
        "id": "view-in-github",
        "colab_type": "text"
      },
      "source": [
        "<a href=\"https://colab.research.google.com/github/iduryodhanrao/ml-tests/blob/main/DL_Data_Structure_%26_Frameworks.ipynb\" target=\"_parent\"><img src=\"https://colab.research.google.com/assets/colab-badge.svg\" alt=\"Open In Colab\"/></a>"
      ]
    },
    {
      "cell_type": "markdown",
      "source": [
        "## Creating Tensors in PyTorch"
      ],
      "metadata": {
        "id": "cGWkB6x_tCl2"
      }
    },
    {
      "cell_type": "code",
      "source": [
        "# !pip install torch\n",
        "import torch"
      ],
      "metadata": {
        "id": "cJc4WmIg6oOl"
      },
      "execution_count": null,
      "outputs": []
    },
    {
      "cell_type": "code",
      "source": [
        "torch.__version__"
      ],
      "metadata": {
        "colab": {
          "base_uri": "https://localhost:8080/",
          "height": 35
        },
        "id": "pE_Y7fXjaKTr",
        "outputId": "b46a207f-521c-4b5a-dedf-ec6d6610e77e"
      },
      "execution_count": null,
      "outputs": [
        {
          "output_type": "execute_result",
          "data": {
            "text/plain": [
              "'2.3.0+cu121'"
            ],
            "application/vnd.google.colaboratory.intrinsic+json": {
              "type": "string"
            }
          },
          "metadata": {},
          "execution_count": 2
        }
      ]
    },
    {
      "cell_type": "code",
      "source": [
        "torch.ones(5,5)"
      ],
      "metadata": {
        "colab": {
          "base_uri": "https://localhost:8080/"
        },
        "id": "afVkYuQbPOdD",
        "outputId": "e250b62f-26f4-4aab-f8d6-02d113725d25"
      },
      "execution_count": null,
      "outputs": [
        {
          "output_type": "execute_result",
          "data": {
            "text/plain": [
              "tensor([[1., 1., 1., 1., 1.],\n",
              "        [1., 1., 1., 1., 1.],\n",
              "        [1., 1., 1., 1., 1.],\n",
              "        [1., 1., 1., 1., 1.],\n",
              "        [1., 1., 1., 1., 1.]])"
            ]
          },
          "metadata": {},
          "execution_count": 6
        }
      ]
    },
    {
      "cell_type": "code",
      "source": [
        "x = torch.tensor([[3, 7, 2, 5],\n",
        "                  [1, 6, 4, 8],\n",
        "                  [9, 0, 2, 4]])\n",
        "\n",
        "result = torch.argmax(x, dim=1)\n",
        "print(result)\n",
        "print(type(x))\n",
        "\n",
        "y = torch.eyes(5)\n",
        "print(y)"
      ],
      "metadata": {
        "colab": {
          "base_uri": "https://localhost:8080/",
          "height": 349
        },
        "id": "EoBnaE3TTmNg",
        "outputId": "007d716b-408e-493c-f40e-2184f3cfbd3c"
      },
      "execution_count": null,
      "outputs": [
        {
          "output_type": "stream",
          "name": "stdout",
          "text": [
            "tensor([1, 3, 0])\n",
            "<class 'torch.Tensor'>\n"
          ]
        },
        {
          "output_type": "error",
          "ename": "AttributeError",
          "evalue": "module 'torch' has no attribute 'eyes'",
          "traceback": [
            "\u001b[0;31m---------------------------------------------------------------------------\u001b[0m",
            "\u001b[0;31mAttributeError\u001b[0m                            Traceback (most recent call last)",
            "\u001b[0;32m<ipython-input-8-3746f2c9bdf5>\u001b[0m in \u001b[0;36m<cell line: 9>\u001b[0;34m()\u001b[0m\n\u001b[1;32m      7\u001b[0m \u001b[0mprint\u001b[0m\u001b[0;34m(\u001b[0m\u001b[0mtype\u001b[0m\u001b[0;34m(\u001b[0m\u001b[0mx\u001b[0m\u001b[0;34m)\u001b[0m\u001b[0;34m)\u001b[0m\u001b[0;34m\u001b[0m\u001b[0;34m\u001b[0m\u001b[0m\n\u001b[1;32m      8\u001b[0m \u001b[0;34m\u001b[0m\u001b[0m\n\u001b[0;32m----> 9\u001b[0;31m \u001b[0my\u001b[0m \u001b[0;34m=\u001b[0m \u001b[0mtorch\u001b[0m\u001b[0;34m.\u001b[0m\u001b[0meyes\u001b[0m\u001b[0;34m(\u001b[0m\u001b[0;36m5\u001b[0m\u001b[0;34m)\u001b[0m\u001b[0;34m\u001b[0m\u001b[0;34m\u001b[0m\u001b[0m\n\u001b[0m\u001b[1;32m     10\u001b[0m \u001b[0mprint\u001b[0m\u001b[0;34m(\u001b[0m\u001b[0my\u001b[0m\u001b[0;34m)\u001b[0m\u001b[0;34m\u001b[0m\u001b[0;34m\u001b[0m\u001b[0m\n",
            "\u001b[0;32m/usr/local/lib/python3.10/dist-packages/torch/__init__.py\u001b[0m in \u001b[0;36m__getattr__\u001b[0;34m(name)\u001b[0m\n\u001b[1;32m   2214\u001b[0m             \u001b[0;32mreturn\u001b[0m \u001b[0mimportlib\u001b[0m\u001b[0;34m.\u001b[0m\u001b[0mimport_module\u001b[0m\u001b[0;34m(\u001b[0m\u001b[0;34mf\".{name}\"\u001b[0m\u001b[0;34m,\u001b[0m \u001b[0m__name__\u001b[0m\u001b[0;34m)\u001b[0m\u001b[0;34m\u001b[0m\u001b[0;34m\u001b[0m\u001b[0m\n\u001b[1;32m   2215\u001b[0m \u001b[0;34m\u001b[0m\u001b[0m\n\u001b[0;32m-> 2216\u001b[0;31m         \u001b[0;32mraise\u001b[0m \u001b[0mAttributeError\u001b[0m\u001b[0;34m(\u001b[0m\u001b[0;34mf\"module '{__name__}' has no attribute '{name}'\"\u001b[0m\u001b[0;34m)\u001b[0m\u001b[0;34m\u001b[0m\u001b[0;34m\u001b[0m\u001b[0m\n\u001b[0m\u001b[1;32m   2217\u001b[0m \u001b[0;34m\u001b[0m\u001b[0m\n\u001b[1;32m   2218\u001b[0m \u001b[0;32mdef\u001b[0m \u001b[0mget_device_module\u001b[0m\u001b[0;34m(\u001b[0m\u001b[0mdevice\u001b[0m\u001b[0;34m:\u001b[0m \u001b[0mOptional\u001b[0m\u001b[0;34m[\u001b[0m\u001b[0mUnion\u001b[0m\u001b[0;34m[\u001b[0m\u001b[0mtorch\u001b[0m\u001b[0;34m.\u001b[0m\u001b[0mdevice\u001b[0m\u001b[0;34m,\u001b[0m \u001b[0mstr\u001b[0m\u001b[0;34m]\u001b[0m\u001b[0;34m]\u001b[0m \u001b[0;34m=\u001b[0m \u001b[0;32mNone\u001b[0m\u001b[0;34m)\u001b[0m\u001b[0;34m:\u001b[0m\u001b[0;34m\u001b[0m\u001b[0;34m\u001b[0m\u001b[0m\n",
            "\u001b[0;31mAttributeError\u001b[0m: module 'torch' has no attribute 'eyes'"
          ]
        }
      ]
    },
    {
      "cell_type": "code",
      "source": [
        "x = torch.tensor([[3, 7, 2, 5],\n",
        "                  [1, 6, 4, 8],\n",
        "                  [9, 0, 2, 4]])\n",
        "\n",
        "result = torch.min(x, dim=0)\n",
        "print(result)"
      ],
      "metadata": {
        "colab": {
          "base_uri": "https://localhost:8080/"
        },
        "id": "ww9VssoPhEEx",
        "outputId": "6e135fd2-610c-4820-e6ee-408fc80b8187"
      },
      "execution_count": null,
      "outputs": [
        {
          "output_type": "stream",
          "name": "stdout",
          "text": [
            "torch.return_types.min(\n",
            "values=tensor([1, 0, 2, 4]),\n",
            "indices=tensor([1, 2, 0, 2]))\n"
          ]
        }
      ]
    },
    {
      "cell_type": "code",
      "source": [
        "x.shape"
      ],
      "metadata": {
        "colab": {
          "base_uri": "https://localhost:8080/"
        },
        "id": "U71YkuqvxMKs",
        "outputId": "4fac43e3-53fc-4bff-fbbb-3987cd7823b7"
      },
      "execution_count": null,
      "outputs": [
        {
          "output_type": "execute_result",
          "data": {
            "text/plain": [
              "torch.Size([3, 4])"
            ]
          },
          "metadata": {},
          "execution_count": 6
        }
      ]
    },
    {
      "cell_type": "code",
      "source": [
        "A = torch.tensor([[1, 2, 3],\n",
        "                  [4, 5, 6]])\n",
        "\n",
        "B = torch.tensor([[7, 8, 9],\n",
        "                  [10, 11, 12]])\n",
        "\n",
        "C = torch.tensor([[13, 14, 15],\n",
        "                  [16, 17, 18]])\n",
        "\n",
        "result = torch.cat((A, B, C), dim=0)\n",
        "\n",
        "print(result)\n"
      ],
      "metadata": {
        "colab": {
          "base_uri": "https://localhost:8080/"
        },
        "id": "n7NkwPzXXdUl",
        "outputId": "64102606-f737-4fd5-ac03-f21de68da786"
      },
      "execution_count": null,
      "outputs": [
        {
          "output_type": "stream",
          "name": "stdout",
          "text": [
            "tensor([[ 1,  2,  3],\n",
            "        [ 4,  5,  6],\n",
            "        [ 7,  8,  9],\n",
            "        [10, 11, 12],\n",
            "        [13, 14, 15],\n",
            "        [16, 17, 18]])\n"
          ]
        }
      ]
    },
    {
      "cell_type": "code",
      "source": [
        "import torch\n",
        "\n",
        "x = torch.tensor([1.0, 2.0, 3.0], requires_grad=True)\n",
        "L = x.sum()\n",
        "\n",
        "#print(L)\n",
        "#print(L.backward)\n",
        "L.backward()\n",
        "print(x.grad)\n",
        "#print(x.backward)"
      ],
      "metadata": {
        "colab": {
          "base_uri": "https://localhost:8080/"
        },
        "id": "xpYAKW80ZQrt",
        "outputId": "89c3bec6-d668-4b4d-e211-334883afa728"
      },
      "execution_count": null,
      "outputs": [
        {
          "output_type": "stream",
          "name": "stdout",
          "text": [
            "tensor([1., 1., 1.])\n"
          ]
        }
      ]
    },
    {
      "cell_type": "code",
      "source": [
        "L"
      ],
      "metadata": {
        "id": "hQoEBKJdZQg1",
        "colab": {
          "base_uri": "https://localhost:8080/"
        },
        "outputId": "abcfaa7d-4879-4eb0-95ae-c02632036f38"
      },
      "execution_count": null,
      "outputs": [
        {
          "output_type": "execute_result",
          "data": {
            "text/plain": [
              "tensor(6., grad_fn=<SumBackward0>)"
            ]
          },
          "metadata": {},
          "execution_count": 13
        }
      ]
    },
    {
      "cell_type": "code",
      "source": [],
      "metadata": {
        "id": "NyKghZEPTqGV"
      },
      "execution_count": null,
      "outputs": []
    },
    {
      "cell_type": "code",
      "source": [
        "tensor1= torch.rand(8,1,6,1)\n",
        "# print(tensor1.shape)\n",
        "# tensor2= torch.rand(7,1,1,2)\n",
        "tensor2= torch.rand(8,1,6,1)\n",
        "# print(tensor2.shape)\n",
        "\n",
        "print( (tensor1 + tensor2).shape )"
      ],
      "metadata": {
        "colab": {
          "base_uri": "https://localhost:8080/"
        },
        "id": "QPtxPFlo4Bfr",
        "outputId": "537f206b-50e1-4f00-a93f-3672561a7072"
      },
      "execution_count": null,
      "outputs": [
        {
          "output_type": "stream",
          "name": "stdout",
          "text": [
            "torch.Size([8, 1, 6, 1])\n"
          ]
        }
      ]
    },
    {
      "cell_type": "code",
      "source": [],
      "metadata": {
        "id": "PRKQuHQS4BuL"
      },
      "execution_count": null,
      "outputs": []
    },
    {
      "cell_type": "code",
      "source": [
        "import torch\n",
        "# Create a 3-dimensional tensor with random values from a uniform distribution\n",
        "random_tensor = torch.rand(2, 3, 4)\n",
        "print(random_tensor)"
      ],
      "metadata": {
        "colab": {
          "base_uri": "https://localhost:8080/"
        },
        "id": "APr5Upbcgoqg",
        "outputId": "ee13db1d-376b-465d-e843-e12a1e6a6a33"
      },
      "execution_count": null,
      "outputs": [
        {
          "output_type": "stream",
          "name": "stdout",
          "text": [
            "tensor([[[0.4074, 0.8127, 0.0790, 0.1783],\n",
            "         [0.9106, 0.7707, 0.5054, 0.4998],\n",
            "         [0.8833, 0.5117, 0.0606, 0.3085]],\n",
            "\n",
            "        [[0.7891, 0.6982, 0.5997, 0.0395],\n",
            "         [0.8528, 0.3088, 0.2439, 0.1824],\n",
            "         [0.8531, 0.9831, 0.9878, 0.9568]]])\n"
          ]
        }
      ]
    },
    {
      "cell_type": "markdown",
      "source": [
        "## Identity Tensor"
      ],
      "metadata": {
        "id": "I0-8-1nds-eD"
      }
    },
    {
      "cell_type": "code",
      "source": [
        "torch.zeros (4, 4)+torch.diag(torch.zeros (4, 4))"
      ],
      "metadata": {
        "colab": {
          "base_uri": "https://localhost:8080/"
        },
        "id": "5yO55ulOMbzG",
        "outputId": "9f99c29a-acf1-4544-e5c4-b8358ed91d13"
      },
      "execution_count": null,
      "outputs": [
        {
          "output_type": "execute_result",
          "data": {
            "text/plain": [
              "tensor([[0., 0., 0., 0.],\n",
              "        [0., 0., 0., 0.],\n",
              "        [0., 0., 0., 0.],\n",
              "        [0., 0., 0., 0.]])"
            ]
          },
          "metadata": {},
          "execution_count": 14
        }
      ]
    },
    {
      "cell_type": "code",
      "source": [
        "def identity_matrix_with_diag (n):\n",
        "\ttensor_ones = torch.ones (n, n) #\n",
        "\t# print(tensor_ones)\n",
        "\t# In the return statement, torch.diag converts the identity_tensor to one dimension\n",
        "\t# Using torch.diag again creates a 20 tensor from the 1D tensor\n",
        "\treturn torch.diag(torch.diag(tensor_ones))"
      ],
      "metadata": {
        "id": "-uYuAHsuhNqt"
      },
      "execution_count": null,
      "outputs": []
    },
    {
      "cell_type": "code",
      "source": [
        "def identity_matrix_with_sum(n) :\n",
        "\tzeros_tensor = torch.zeros (n, n)\n",
        "\tidentity_tensor = torch.diag(torch.ones (n)) # torch.diag changes 1D \tto 2D tensor\n",
        "\tidentity_matrix = zeros_tensor + identity_tensor # Element wise addition of two tensors\n",
        "\treturn identity_matrix"
      ],
      "metadata": {
        "id": "JWwNcik0s6GL"
      },
      "execution_count": null,
      "outputs": []
    },
    {
      "cell_type": "code",
      "source": [
        "print(identity_matrix_with_diag(5))"
      ],
      "metadata": {
        "colab": {
          "base_uri": "https://localhost:8080/"
        },
        "id": "RQ97B1OwiX0p",
        "outputId": "f848c2f1-7679-489d-8769-36a3fc61c2bc"
      },
      "execution_count": null,
      "outputs": [
        {
          "output_type": "stream",
          "name": "stdout",
          "text": [
            "tensor([[1., 0., 0., 0., 0.],\n",
            "        [0., 1., 0., 0., 0.],\n",
            "        [0., 0., 1., 0., 0.],\n",
            "        [0., 0., 0., 1., 0.],\n",
            "        [0., 0., 0., 0., 1.]])\n"
          ]
        }
      ]
    },
    {
      "cell_type": "code",
      "source": [
        "torch.eye(5)"
      ],
      "metadata": {
        "colab": {
          "base_uri": "https://localhost:8080/"
        },
        "id": "Ileet08m00B5",
        "outputId": "59329cd5-bbbb-49e7-efdb-a23a4ec8b049"
      },
      "execution_count": null,
      "outputs": [
        {
          "output_type": "execute_result",
          "data": {
            "text/plain": [
              "tensor([[1., 0., 0., 0., 0.],\n",
              "        [0., 1., 0., 0., 0.],\n",
              "        [0., 0., 1., 0., 0.],\n",
              "        [0., 0., 0., 1., 0.],\n",
              "        [0., 0., 0., 0., 1.]])"
            ]
          },
          "metadata": {},
          "execution_count": 17
        }
      ]
    },
    {
      "cell_type": "code",
      "source": [
        "torch.diag(torch.diag(torch.ones(5,5)))\n",
        "# torch.diag(torch.ones(2, 5, 5))"
      ],
      "metadata": {
        "colab": {
          "base_uri": "https://localhost:8080/"
        },
        "id": "AI3AVdESyEDq",
        "outputId": "326e50c4-e0e9-4038-d513-94e096477e29"
      },
      "execution_count": null,
      "outputs": [
        {
          "output_type": "execute_result",
          "data": {
            "text/plain": [
              "tensor([[1., 0., 0., 0., 0.],\n",
              "        [0., 1., 0., 0., 0.],\n",
              "        [0., 0., 1., 0., 0.],\n",
              "        [0., 0., 0., 1., 0.],\n",
              "        [0., 0., 0., 0., 1.]])"
            ]
          },
          "metadata": {},
          "execution_count": 12
        }
      ]
    },
    {
      "cell_type": "code",
      "source": [
        "identity_matrix_with_sum(5)"
      ],
      "metadata": {
        "colab": {
          "base_uri": "https://localhost:8080/"
        },
        "id": "eVU6YrSwa13C",
        "outputId": "06dc7390-1b91-498e-ba23-e366a5211873"
      },
      "execution_count": null,
      "outputs": [
        {
          "output_type": "execute_result",
          "data": {
            "text/plain": [
              "tensor([[1., 0., 0., 0., 0.],\n",
              "        [0., 1., 0., 0., 0.],\n",
              "        [0., 0., 1., 0., 0.],\n",
              "        [0., 0., 0., 1., 0.],\n",
              "        [0., 0., 0., 0., 1.]])"
            ]
          },
          "metadata": {},
          "execution_count": 18
        }
      ]
    },
    {
      "cell_type": "code",
      "source": [
        "#Alternate Diagonal Matrix creation\n",
        "#torch.eye(5,5)\n",
        "#How about (n,m)\n",
        "#n!=m\n",
        "#torch.eye(5,4); #min(5,4)\n",
        "torch.eye(4,5)\n",
        "#padding"
      ],
      "metadata": {
        "colab": {
          "base_uri": "https://localhost:8080/"
        },
        "id": "D0N6dmKNadn1",
        "outputId": "95ee7c76-5a99-4f94-f92f-3028f7b2c677"
      },
      "execution_count": null,
      "outputs": [
        {
          "output_type": "execute_result",
          "data": {
            "text/plain": [
              "tensor([[1., 0., 0., 0., 0.],\n",
              "        [0., 1., 0., 0., 0.],\n",
              "        [0., 0., 1., 0., 0.],\n",
              "        [0., 0., 0., 1., 0.]])"
            ]
          },
          "metadata": {},
          "execution_count": 24
        }
      ]
    },
    {
      "cell_type": "code",
      "source": [
        "torch. tensor ([[1, 2], [3,4]])"
      ],
      "metadata": {
        "colab": {
          "base_uri": "https://localhost:8080/"
        },
        "id": "aME--gzKywqA",
        "outputId": "dc3d6c05-13ad-45e7-e7af-6cc83ec1971b"
      },
      "execution_count": null,
      "outputs": [
        {
          "output_type": "execute_result",
          "data": {
            "text/plain": [
              "tensor([[1, 2],\n",
              "        [3, 4]])"
            ]
          },
          "metadata": {},
          "execution_count": 25
        }
      ]
    },
    {
      "cell_type": "markdown",
      "source": [
        "## Basic Mathematical Operations on Tensors"
      ],
      "metadata": {
        "id": "BNm9-Gg_tgHo"
      }
    },
    {
      "cell_type": "code",
      "source": [
        "import torch\n",
        "# Create a base tensor\n",
        "base_tensor = torch. tensor ([[1, 2], [3,4]])\n",
        "print(\"Base Tensor: \\n\", base_tensor)\n",
        "print()\n",
        "# Create another tensor\n",
        "second_tensor = torch.tensor ([[2, 2], [1,1]])\n",
        "print(\"Second Tensor: \\n\", second_tensor)\n",
        "print()\n",
        "# Addition\n",
        "addition_tensor = base_tensor + second_tensor\n",
        "print(\"Addition: \\n\", addition_tensor)\n",
        "print()\n",
        "\n",
        "# Subtraction\n",
        "subtraction_tensor = base_tensor - second_tensor\n",
        "print(\"Subtraction: \\n\", subtraction_tensor)\n",
        "print()\n",
        "# Multiplication\n",
        "multiplication_tensor = base_tensor * second_tensor\n",
        "print(\"Multiplication: \\n\", multiplication_tensor)\n",
        "print()\n",
        "# Division\n",
        "division_tensor = base_tensor / second_tensor\n",
        "print(\"Division: In\", division_tensor)\n",
        "print()\n"
      ],
      "metadata": {
        "colab": {
          "base_uri": "https://localhost:8080/"
        },
        "id": "FHUisZwctrd7",
        "outputId": "52717c35-967a-4100-c56f-9c3a87cb440d"
      },
      "execution_count": null,
      "outputs": [
        {
          "output_type": "stream",
          "name": "stdout",
          "text": [
            "Base Tensor: \n",
            " tensor([[1, 2],\n",
            "        [3, 4]])\n",
            "\n",
            "Second Tensor: \n",
            " tensor([[2, 2],\n",
            "        [1, 1]])\n",
            "\n",
            "Addition: \n",
            " tensor([[3, 4],\n",
            "        [4, 5]])\n",
            "\n",
            "Subtraction: \n",
            " tensor([[-1,  0],\n",
            "        [ 2,  3]])\n",
            "\n",
            "Multiplication: \n",
            " tensor([[2, 4],\n",
            "        [3, 4]])\n",
            "\n",
            "Division: In tensor([[0.5000, 1.0000],\n",
            "        [3.0000, 4.0000]])\n",
            "\n"
          ]
        }
      ]
    },
    {
      "cell_type": "code",
      "source": [
        "print(base_tensor.shape)\n",
        "print(second_tensor.shape)"
      ],
      "metadata": {
        "colab": {
          "base_uri": "https://localhost:8080/"
        },
        "id": "gYJ8gRFgO-Mf",
        "outputId": "3b53946b-035a-40d2-9ba3-3fb8e1e7ed23"
      },
      "execution_count": null,
      "outputs": [
        {
          "output_type": "stream",
          "name": "stdout",
          "text": [
            "torch.Size([2, 2])\n",
            "torch.Size([2, 2])\n"
          ]
        }
      ]
    },
    {
      "cell_type": "code",
      "source": [
        "# Dimension Compatibility\n",
        "tensor1 = torch.rand(2,2) # Columns of 1st Matrix\n",
        "tensor2 = torch.rand(2,3) # Rows of 2nd Matrix\n",
        "print(tensor1)\n",
        "print(tensor2)\n",
        "#Can we do any operation on them"
      ],
      "metadata": {
        "colab": {
          "base_uri": "https://localhost:8080/"
        },
        "id": "CBekSPeybKYi",
        "outputId": "4c71df1a-1540-473b-e89f-ad3e4e030239"
      },
      "execution_count": null,
      "outputs": [
        {
          "output_type": "stream",
          "name": "stdout",
          "text": [
            "tensor([[0.1092, 0.1614],\n",
            "        [0.4957, 0.4914]])\n",
            "tensor([[0.2966, 0.4637, 0.2940],\n",
            "        [0.2562, 0.7184, 0.0360]])\n"
          ]
        }
      ]
    },
    {
      "cell_type": "code",
      "source": [
        "tensor2@tensor1"
      ],
      "metadata": {
        "colab": {
          "base_uri": "https://localhost:8080/",
          "height": 144
        },
        "id": "ZrLkZLPNQMXp",
        "outputId": "ceefccec-d4dc-4995-cec2-671362cc31d3"
      },
      "execution_count": null,
      "outputs": [
        {
          "output_type": "error",
          "ename": "RuntimeError",
          "evalue": "mat1 and mat2 shapes cannot be multiplied (2x3 and 2x2)",
          "traceback": [
            "\u001b[0;31m---------------------------------------------------------------------------\u001b[0m",
            "\u001b[0;31mRuntimeError\u001b[0m                              Traceback (most recent call last)",
            "\u001b[0;32m<ipython-input-34-be9739dc5bf0>\u001b[0m in \u001b[0;36m<cell line: 1>\u001b[0;34m()\u001b[0m\n\u001b[0;32m----> 1\u001b[0;31m \u001b[0mtensor2\u001b[0m\u001b[0;34m@\u001b[0m\u001b[0mtensor1\u001b[0m\u001b[0;34m\u001b[0m\u001b[0;34m\u001b[0m\u001b[0m\n\u001b[0m",
            "\u001b[0;31mRuntimeError\u001b[0m: mat1 and mat2 shapes cannot be multiplied (2x3 and 2x2)"
          ]
        }
      ]
    },
    {
      "cell_type": "code",
      "source": [
        "#Matrix Multiplication\n",
        "torch.matmul(base_tensor, second_tensor)\n",
        "#base_tensor@second_tensor"
      ],
      "metadata": {
        "colab": {
          "base_uri": "https://localhost:8080/"
        },
        "id": "AXtFNNLgbKTv",
        "outputId": "e8106e07-4037-405c-b7b0-656e2f23939a"
      },
      "execution_count": null,
      "outputs": [
        {
          "output_type": "execute_result",
          "data": {
            "text/plain": [
              "tensor([[ 4,  4],\n",
              "        [10, 10]])"
            ]
          },
          "metadata": {},
          "execution_count": 32
        }
      ]
    },
    {
      "cell_type": "markdown",
      "source": [
        "## Tensor indexing and slicing"
      ],
      "metadata": {
        "id": "ymAddp0-t_72"
      }
    },
    {
      "cell_type": "code",
      "source": [
        "import torch\n",
        "# Create a tensor with size (2, 3, 3)\n",
        "tensor = torch.tensor ([\n",
        "\t[[1, 2, 3], [4, 5, 6], [7, 8, 9]],\n",
        "\t[[10, 11, 12], [13, 14, 15],[16, 17,18]]\n",
        "])\n",
        "print (\"Original Tensor:\")\n",
        "print (tensor)\n",
        "print(\"\\nTensor Shape:\", tensor.shape)\n"
      ],
      "metadata": {
        "colab": {
          "base_uri": "https://localhost:8080/"
        },
        "id": "7KWgPlimuFxK",
        "outputId": "2d3b6861-81e7-46ef-baa8-9b62c38004dd"
      },
      "execution_count": null,
      "outputs": [
        {
          "output_type": "stream",
          "name": "stdout",
          "text": [
            "Original Tensor:\n",
            "tensor([[[ 1,  2,  3],\n",
            "         [ 4,  5,  6],\n",
            "         [ 7,  8,  9]],\n",
            "\n",
            "        [[10, 11, 12],\n",
            "         [13, 14, 15],\n",
            "         [16, 17, 18]]])\n",
            "\n",
            "Tensor Shape: torch.Size([2, 3, 3])\n"
          ]
        }
      ]
    },
    {
      "cell_type": "markdown",
      "source": [
        "## Tensor indexing and slicing"
      ],
      "metadata": {
        "id": "fIsmhVOTuM3N"
      }
    },
    {
      "cell_type": "code",
      "source": [
        "# Row Slice (Slice of the second row)\n",
        "row_slice = tensor[:, 1, :]# \":\" => any\n",
        "print(\"\\nRow Slice:\")\n",
        "print (row_slice)\n",
        "print (\"Row Slice Shape:\", row_slice.shape)\n",
        "\n"
      ],
      "metadata": {
        "colab": {
          "base_uri": "https://localhost:8080/"
        },
        "id": "GY0chQy3uXBQ",
        "outputId": "a72fc9cc-bc48-450f-e961-81b286025c91"
      },
      "execution_count": null,
      "outputs": [
        {
          "output_type": "stream",
          "name": "stdout",
          "text": [
            "\n",
            "Row Slice:\n",
            "tensor([[ 4,  5,  6],\n",
            "        [13, 14, 15]])\n",
            "Row Slice Shape: torch.Size([2, 3])\n"
          ]
        }
      ]
    },
    {
      "cell_type": "markdown",
      "source": [
        "## Tensor indexing and slicing"
      ],
      "metadata": {
        "id": "yPSqTtguui-0"
      }
    },
    {
      "cell_type": "code",
      "source": [
        "# Column Slice (Slice of the third column)\n",
        "column_slice = tensor[:,:, 2]\n",
        "print (\"\\nColumn Slice:\")\n",
        "print(column_slice)\n",
        "print (\"Column Slice Shape:\", column_slice.shape)\n"
      ],
      "metadata": {
        "colab": {
          "base_uri": "https://localhost:8080/"
        },
        "id": "TJ99d0Y1uo8q",
        "outputId": "ea28aa1a-6067-44c8-c355-09a1b8cc9404"
      },
      "execution_count": null,
      "outputs": [
        {
          "output_type": "stream",
          "name": "stdout",
          "text": [
            "\n",
            "Column Slice:\n",
            "tensor([[ 3,  6,  9],\n",
            "        [12, 15, 18]])\n",
            "Column Slice Shape: torch.Size([2, 3])\n"
          ]
        }
      ]
    },
    {
      "cell_type": "markdown",
      "source": [
        "## Tensor Indexing and Slicing"
      ],
      "metadata": {
        "id": "AoV5FGayusZV"
      }
    },
    {
      "cell_type": "code",
      "source": [
        "# Mixed Slice (Mixed slice of rows and columns)\n",
        "mixed_slice = tensor[:, 0:2, 1:3]\n",
        "print(\"\\nMixed Slice:\")\n",
        "print (mixed_slice)\n",
        "print(\"Mixed Slice Shape:\", mixed_slice.shape)\n",
        "\n"
      ],
      "metadata": {
        "colab": {
          "base_uri": "https://localhost:8080/"
        },
        "id": "gopWgt3fuzmB",
        "outputId": "0dc7643f-adc0-45f7-d24a-9d1ffaec69c9"
      },
      "execution_count": null,
      "outputs": [
        {
          "output_type": "stream",
          "name": "stdout",
          "text": [
            "\n",
            "Mixed Slice:\n",
            "tensor([[[ 2,  3],\n",
            "         [ 5,  6]],\n",
            "\n",
            "        [[11, 12],\n",
            "         [14, 15]]])\n",
            "Mixed Slice Shape: torch.Size([2, 2, 2])\n"
          ]
        }
      ]
    },
    {
      "cell_type": "code",
      "source": [
        "# Cumulative Slice\n",
        "print(tensor)\n",
        "# For each (any) Batch;How to get all the rows starting from the first row; column (any)\n",
        "print(tensor[:, 1:, :])"
      ],
      "metadata": {
        "colab": {
          "base_uri": "https://localhost:8080/"
        },
        "id": "Mm_mdDazb7bG",
        "outputId": "87750042-5e0a-495c-9ead-89106c4d19eb"
      },
      "execution_count": null,
      "outputs": [
        {
          "output_type": "stream",
          "name": "stdout",
          "text": [
            "tensor([[[ 1,  2,  3],\n",
            "         [ 4,  5,  6],\n",
            "         [ 7,  8,  9]],\n",
            "\n",
            "        [[10, 11, 12],\n",
            "         [13, 14, 15],\n",
            "         [16, 17, 18]]])\n",
            "tensor([[[ 4,  5,  6],\n",
            "         [ 7,  8,  9]],\n",
            "\n",
            "        [[13, 14, 15],\n",
            "         [16, 17, 18]]])\n"
          ]
        }
      ]
    },
    {
      "cell_type": "markdown",
      "source": [
        "## Tensor Broadcasting Examples"
      ],
      "metadata": {
        "id": "wcwPLkpHu-2G"
      }
    },
    {
      "cell_type": "code",
      "source": [
        "tensor1 = torch.tensor([[1, 2, 3],[4, 5, 6]])\n",
        "tensor2 = torch.tensor ([10,20,30])\n",
        "print(\"Tensor 1: \\n\", tensor1)\n",
        "print(\"Tensor 2: \\n\", tensor2)\n",
        "print()\n",
        "print('Tensor Shapes')\n",
        "print(tensor1.shape)\n",
        "print(tensor2.shape)\n",
        "print()\n",
        "print(\"Broadcast addition: \")\n",
        "result = tensor1 + tensor2\n",
        "print(result)\n",
        "print(result.shape)"
      ],
      "metadata": {
        "colab": {
          "base_uri": "https://localhost:8080/"
        },
        "id": "tXA74oQevHDn",
        "outputId": "c6b59b89-7759-4f6d-f302-b9324e8eec46"
      },
      "execution_count": null,
      "outputs": [
        {
          "output_type": "stream",
          "name": "stdout",
          "text": [
            "Tensor 1: \n",
            " tensor([[1, 2, 3],\n",
            "        [4, 5, 6]])\n",
            "Tensor 2: \n",
            " tensor([10, 20, 30])\n",
            "\n",
            "Tensor Shapes\n",
            "torch.Size([2, 3])\n",
            "torch.Size([3])\n",
            "\n",
            "Broadcast addition: \n",
            "tensor([[11, 22, 33],\n",
            "        [14, 25, 36]])\n",
            "torch.Size([2, 3])\n"
          ]
        }
      ]
    },
    {
      "cell_type": "code",
      "source": [
        "torch.tensor(3)"
      ],
      "metadata": {
        "colab": {
          "base_uri": "https://localhost:8080/"
        },
        "id": "bb6gNM-JT4IC",
        "outputId": "c366306e-506b-4dba-9666-dc64c8b6785a"
      },
      "execution_count": null,
      "outputs": [
        {
          "output_type": "execute_result",
          "data": {
            "text/plain": [
              "tensor(3)"
            ]
          },
          "metadata": {},
          "execution_count": 47
        }
      ]
    },
    {
      "cell_type": "code",
      "source": [
        "#Scaling of a single dimension tensor\n",
        "tensor3 = torch.tensor(3)\n",
        "tensor1 * tensor3"
      ],
      "metadata": {
        "colab": {
          "base_uri": "https://localhost:8080/"
        },
        "id": "faP41IgD5E_9",
        "outputId": "4055ed42-8a40-44dd-9c08-4a1e8d1a9c28"
      },
      "execution_count": null,
      "outputs": [
        {
          "output_type": "execute_result",
          "data": {
            "text/plain": [
              "tensor([[ 3,  6,  9],\n",
              "        [12, 15, 18]])"
            ]
          },
          "metadata": {},
          "execution_count": 46
        }
      ]
    },
    {
      "cell_type": "code",
      "source": [
        "# Multiplication through Broadcasting\n",
        "tensor1 = torch.tensor([[1, 2, 3],[4, 5, 6]])\n",
        "tensor2 = torch.tensor ([[10],[20]])\n",
        "print(\"Tensor 1: \\n\", tensor1)\n",
        "print(\"Tensor 2: \\n\", tensor2)\n",
        "print()\n",
        "print('Tensor Shapes')\n",
        "print(tensor1.shape)\n",
        "print(tensor2.shape)\n",
        "print()\n",
        "print(\"Broadcast Multiplication: \")\n",
        "result = tensor1 * tensor2\n",
        "print(result)\n",
        "print(result.shape)"
      ],
      "metadata": {
        "colab": {
          "base_uri": "https://localhost:8080/"
        },
        "id": "JgliqemheW1F",
        "outputId": "17aa5a5f-ca80-4588-eab9-a11a07808271"
      },
      "execution_count": null,
      "outputs": [
        {
          "output_type": "stream",
          "name": "stdout",
          "text": [
            "Tensor 1: \n",
            " tensor([[1, 2, 3],\n",
            "        [4, 5, 6]])\n",
            "Tensor 2: \n",
            " tensor([[10],\n",
            "        [20]])\n",
            "\n",
            "Tensor Shapes\n",
            "torch.Size([2, 3])\n",
            "torch.Size([2, 1])\n",
            "\n",
            "Broadcast Multiplication: \n",
            "tensor([[ 10,  20,  30],\n",
            "        [ 80, 100, 120]])\n",
            "torch.Size([2, 3])\n"
          ]
        }
      ]
    },
    {
      "cell_type": "code",
      "source": [
        "## broadcasting with Multi Dimensional tensors\n",
        "# Create a tensor of shape (256, 256, 3)\n",
        "tensor1= torch.rand(256, 256, 3)\n",
        "print(\"Tensor 1:\", tensor1[:1, :3, :])\n",
        "# Create a tensor of shape (3, 2, 1)\n",
        "tensor2 = torch.rand(3)\n",
        "print(\"Tensor 2:\", tensor2)\n",
        "print()\n",
        "# Perform broadcasting for multiplication\n",
        "result = tensor1 * tensor2\n",
        "print(\"Result:\", result[:1, :3, :])\n",
        "\n",
        "print()\n",
        "print(\"Tensor 1 Shape:\", tensor1.shape)\n",
        "print(\"Tensor 2 Shape:\", tensor2.shape)\n",
        "print(\"Result Shape:\", result.shape)"
      ],
      "metadata": {
        "colab": {
          "base_uri": "https://localhost:8080/"
        },
        "id": "7ZGj-ns9hyfi",
        "outputId": "19069e38-7529-4c77-c324-2a490c2834bb"
      },
      "execution_count": null,
      "outputs": [
        {
          "output_type": "stream",
          "name": "stdout",
          "text": [
            "Tensor 1: tensor([[[0.5821, 0.7184, 0.2338],\n",
            "         [0.6563, 0.8989, 0.6913],\n",
            "         [0.6653, 0.7209, 0.6537]]])\n",
            "Tensor 2: tensor([0.8480, 0.5049, 0.2679])\n",
            "\n",
            "Result: tensor([[[0.4937, 0.3627, 0.0626],\n",
            "         [0.5566, 0.4538, 0.1852],\n",
            "         [0.5641, 0.3640, 0.1751]]])\n",
            "\n",
            "Tensor 1 Shape: torch.Size([256, 256, 3])\n",
            "Tensor 2 Shape: torch.Size([3])\n",
            "Result Shape: torch.Size([256, 256, 3])\n"
          ]
        }
      ]
    },
    {
      "cell_type": "code",
      "source": [
        "tensor1 = torch.tensor ([[1, 2,3], [4,5,6]]) # shape: (2,3)\n",
        "print(\"Tensor 1:\", tensor1)\n",
        "print()\n",
        "tensor2 = torch.tensor([[10], [20]]) # shape: (2,1)\n",
        "print(\"Tensor 2:\", tensor2)\n",
        "print()\n",
        "# Perform broadcasting for multiplication\n",
        "result = tensor1 * tensor2\n",
        "print('Result', result)\n",
        "print (\"Broadcast Multiplication: \\n\", result.shape)"
      ],
      "metadata": {
        "colab": {
          "base_uri": "https://localhost:8080/"
        },
        "id": "KOJJA9UvtWpA",
        "outputId": "03d02324-b899-4376-c5ac-c661f718b299"
      },
      "execution_count": null,
      "outputs": [
        {
          "output_type": "stream",
          "name": "stdout",
          "text": [
            "Tensor 1: tensor([[1, 2, 3],\n",
            "        [4, 5, 6]])\n",
            "\n",
            "Tensor 2: tensor([[10],\n",
            "        [20]])\n",
            "\n",
            "Result tensor([[ 10,  20,  30],\n",
            "        [ 80, 100, 120]])\n",
            "Broadcast Multiplication: \n",
            " torch.Size([2, 3])\n"
          ]
        }
      ]
    },
    {
      "cell_type": "code",
      "source": [],
      "metadata": {
        "id": "hOYoKTntaxd5"
      },
      "execution_count": null,
      "outputs": []
    },
    {
      "cell_type": "code",
      "source": [
        "tensor1= torch.rand(8,1,6,1)\n",
        "print(\"Tensor 1:\", tensor1[:1, :, :, :])\n",
        "print()\n",
        "\n",
        "tensor2 = torch.rand(7,1,5)\n",
        "print(\"Tensor 2\", tensor2)\n",
        "print()\n",
        "# Perform broadcasting for multiplication\n",
        "result = tensor1 * tensor2\n",
        "print(\"Result:\", result[:1, :, :, :])\n",
        "\n",
        "print()\n",
        "print(\"Tensor 1 Shape:\", tensor1.shape)\n",
        "print(\"Tensor 2 Shape:\", tensor2.shape)\n",
        "print(\"Result Shape:\", result.shape)"
      ],
      "metadata": {
        "colab": {
          "base_uri": "https://localhost:8080/"
        },
        "id": "-ELYEEfWP77p",
        "outputId": "51f7e4e9-9765-4f9e-d125-7b3ed27d8c44"
      },
      "execution_count": null,
      "outputs": [
        {
          "output_type": "stream",
          "name": "stdout",
          "text": [
            "Tensor 1: tensor([[[[0.4459],\n",
            "          [0.7717],\n",
            "          [0.6977],\n",
            "          [0.0819],\n",
            "          [0.3097],\n",
            "          [0.1492]]]])\n",
            "\n",
            "Tensor 2 tensor([[[0.7724, 0.5755, 0.3424, 0.3202, 0.2730]],\n",
            "\n",
            "        [[0.3340, 0.5113, 0.7361, 0.8270, 0.8022]],\n",
            "\n",
            "        [[0.6692, 0.1163, 0.0052, 0.9023, 0.1366]],\n",
            "\n",
            "        [[0.1863, 0.8169, 0.4437, 0.2849, 0.4754]],\n",
            "\n",
            "        [[0.7134, 0.1052, 0.0513, 0.3405, 0.5736]],\n",
            "\n",
            "        [[0.8623, 0.9214, 0.7037, 0.6240, 0.7872]],\n",
            "\n",
            "        [[0.3060, 0.7894, 0.4844, 0.8112, 0.8972]]])\n",
            "\n",
            "Result: tensor([[[[3.4439e-01, 2.5660e-01, 1.5266e-01, 1.4276e-01, 1.2173e-01],\n",
            "          [5.9606e-01, 4.4411e-01, 2.6422e-01, 2.4708e-01, 2.1069e-01],\n",
            "          [5.3891e-01, 4.0153e-01, 2.3888e-01, 2.2339e-01, 1.9049e-01],\n",
            "          [6.3269e-02, 4.7140e-02, 2.8045e-02, 2.6226e-02, 2.2364e-02],\n",
            "          [2.3920e-01, 1.7823e-01, 1.0603e-01, 9.9156e-02, 8.4552e-02],\n",
            "          [1.1527e-01, 8.5888e-02, 5.1098e-02, 4.7783e-02, 4.0746e-02]],\n",
            "\n",
            "         [[1.4895e-01, 2.2796e-01, 3.2821e-01, 3.6873e-01, 3.5770e-01],\n",
            "          [2.5780e-01, 3.9455e-01, 5.6806e-01, 6.3818e-01, 6.1909e-01],\n",
            "          [2.3308e-01, 3.5672e-01, 5.1359e-01, 5.7699e-01, 5.5973e-01],\n",
            "          [2.7364e-02, 4.1880e-02, 6.0296e-02, 6.7740e-02, 6.5713e-02],\n",
            "          [1.0346e-01, 1.5834e-01, 2.2797e-01, 2.5611e-01, 2.4845e-01],\n",
            "          [4.9856e-02, 7.6303e-02, 1.0986e-01, 1.2342e-01, 1.1973e-01]],\n",
            "\n",
            "         [[2.9840e-01, 5.1875e-02, 2.3365e-03, 4.0234e-01, 6.0893e-02],\n",
            "          [5.1646e-01, 8.9785e-02, 4.0439e-03, 6.9636e-01, 1.0539e-01],\n",
            "          [4.6694e-01, 8.1176e-02, 3.6562e-03, 6.2959e-01, 9.5286e-02],\n",
            "          [5.4819e-02, 9.5302e-03, 4.2924e-04, 7.3915e-02, 1.1187e-02],\n",
            "          [2.0726e-01, 3.6031e-02, 1.6229e-03, 2.7946e-01, 4.2295e-02],\n",
            "          [9.9878e-02, 1.7364e-02, 7.8206e-04, 1.3467e-01, 2.0382e-02]],\n",
            "\n",
            "         [[8.3062e-02, 3.6424e-01, 1.9782e-01, 1.2704e-01, 2.1197e-01],\n",
            "          [1.4376e-01, 6.3041e-01, 3.4239e-01, 2.1988e-01, 3.6688e-01],\n",
            "          [1.2998e-01, 5.6996e-01, 3.0956e-01, 1.9880e-01, 3.3170e-01],\n",
            "          [1.5259e-02, 6.6915e-02, 3.6343e-02, 2.3339e-02, 3.8942e-02],\n",
            "          [5.7693e-02, 2.5299e-01, 1.3740e-01, 8.8241e-02, 1.4723e-01],\n",
            "          [2.7802e-02, 1.2192e-01, 6.6215e-02, 4.2523e-02, 7.0951e-02]],\n",
            "\n",
            "         [[3.1808e-01, 4.6902e-02, 2.2891e-02, 1.5181e-01, 2.5574e-01],\n",
            "          [5.5053e-01, 8.1176e-02, 3.9619e-02, 2.6274e-01, 4.4263e-01],\n",
            "          [4.9774e-01, 7.3393e-02, 3.5820e-02, 2.3755e-01, 4.0019e-01],\n",
            "          [5.8435e-02, 8.6164e-03, 4.2053e-03, 2.7889e-02, 4.6983e-02],\n",
            "          [2.2093e-01, 3.2577e-02, 1.5899e-02, 1.0544e-01, 1.7763e-01],\n",
            "          [1.0647e-01, 1.5699e-02, 7.6619e-03, 5.0812e-02, 8.5601e-02]],\n",
            "\n",
            "         [[3.8448e-01, 4.1086e-01, 3.1378e-01, 2.7825e-01, 3.5099e-01],\n",
            "          [6.6545e-01, 7.1110e-01, 5.4307e-01, 4.8158e-01, 6.0748e-01],\n",
            "          [6.0165e-01, 6.4292e-01, 4.9100e-01, 4.3541e-01, 5.4923e-01],\n",
            "          [7.0634e-02, 7.5479e-02, 5.7645e-02, 5.1117e-02, 6.4481e-02],\n",
            "          [2.6705e-01, 2.8537e-01, 2.1794e-01, 1.9326e-01, 2.4379e-01],\n",
            "          [1.2869e-01, 1.3752e-01, 1.0503e-01, 9.3134e-02, 1.1748e-01]],\n",
            "\n",
            "         [[1.3645e-01, 3.5196e-01, 2.1600e-01, 3.6172e-01, 4.0004e-01],\n",
            "          [2.3617e-01, 6.0917e-01, 3.7384e-01, 6.2606e-01, 6.9238e-01],\n",
            "          [2.1352e-01, 5.5076e-01, 3.3800e-01, 5.6603e-01, 6.2599e-01],\n",
            "          [2.5068e-02, 6.4660e-02, 3.9682e-02, 6.6453e-02, 7.3492e-02],\n",
            "          [9.4776e-02, 2.4447e-01, 1.5003e-01, 2.5124e-01, 2.7786e-01],\n",
            "          [4.5673e-02, 1.1781e-01, 7.2298e-02, 1.2107e-01, 1.3390e-01]]]])\n",
            "\n",
            "Tensor 1 Shape: torch.Size([8, 1, 6, 1])\n",
            "Tensor 2 Shape: torch.Size([7, 1, 5])\n",
            "Result Shape: torch.Size([8, 7, 6, 5])\n"
          ]
        }
      ]
    },
    {
      "cell_type": "code",
      "source": [
        "tensor1= torch.rand(4,1,2,2)\n",
        "print(\"Tensor 1:\", tensor1[:1, :, :, :])\n",
        "print()\n",
        "#4: Batch, 1: Channel, (2,2)\n",
        "tensor2 = torch.rand(3,2,2)\n",
        "#3 operations: 2,2\n",
        "#print(\"Tensor 2\", tensor2)\n",
        "print()\n",
        "# Perform broadcasting for multiplication\n",
        "result = tensor1 * tensor2\n",
        "#print(\"Result:\", result[:1, :, :, :])\n",
        "\n",
        "print()\n",
        "print(\"Tensor 1 Shape:\", tensor1.shape)\n",
        "print(\"Tensor 2 Shape:\", tensor2.shape)\n",
        "print(\"Result Shape:\", result.shape)\n",
        "\n",
        "#Reducation: Dim1\n",
        "#torch.Size([4, 1, 2, 2])"
      ],
      "metadata": {
        "colab": {
          "base_uri": "https://localhost:8080/"
        },
        "id": "XysSI2nUWvxU",
        "outputId": "958b6b69-3917-4072-801f-895a7db3349d"
      },
      "execution_count": null,
      "outputs": [
        {
          "output_type": "stream",
          "name": "stdout",
          "text": [
            "Tensor 1: tensor([[[[0.2971, 0.2755],\n",
            "          [0.6688, 0.8976]]]])\n",
            "\n",
            "\n",
            "\n",
            "Tensor 1 Shape: torch.Size([4, 1, 2, 2])\n",
            "Tensor 2 Shape: torch.Size([3, 2, 2])\n",
            "Result Shape: torch.Size([4, 3, 2, 2])\n"
          ]
        }
      ]
    },
    {
      "cell_type": "code",
      "source": [
        "torch.mean(result, dim=1).shape\n",
        "# Add back the Dimension 1"
      ],
      "metadata": {
        "colab": {
          "base_uri": "https://localhost:8080/"
        },
        "id": "LH5WSga-b9mv",
        "outputId": "90f5e7fb-f356-4f0f-c222-521b200aa39f"
      },
      "execution_count": null,
      "outputs": [
        {
          "output_type": "execute_result",
          "data": {
            "text/plain": [
              "torch.Size([4, 2, 2])"
            ]
          },
          "metadata": {},
          "execution_count": 112
        }
      ]
    },
    {
      "cell_type": "code",
      "source": [
        "torch.mean(result, dim=1).unsqueeze(dim=1).shape"
      ],
      "metadata": {
        "colab": {
          "base_uri": "https://localhost:8080/"
        },
        "id": "kO0ymAn5kAgt",
        "outputId": "a16849c0-0cf5-4174-fc19-40f908f5eeb9"
      },
      "execution_count": null,
      "outputs": [
        {
          "output_type": "execute_result",
          "data": {
            "text/plain": [
              "torch.Size([4, 1, 2, 2])"
            ]
          },
          "metadata": {},
          "execution_count": 116
        }
      ]
    },
    {
      "cell_type": "code",
      "source": [
        "import numpy as np\n",
        "np.random.randn(4,3)#.argmin(axis=1)#.sum(axis=0)\n",
        "arr = [[1, 2, 4], [9, 7, 6], [7, 14, 9], [10, 16, 12]]\n",
        "np.array(arr).argmax(axis=1)"
      ],
      "metadata": {
        "colab": {
          "base_uri": "https://localhost:8080/"
        },
        "id": "tiiaVq0ivWd9",
        "outputId": "026bda5f-1128-43e5-a270-6f0b5306875c"
      },
      "execution_count": null,
      "outputs": [
        {
          "output_type": "execute_result",
          "data": {
            "text/plain": [
              "array([2, 0, 1, 1])"
            ]
          },
          "metadata": {},
          "execution_count": 18
        }
      ]
    },
    {
      "cell_type": "markdown",
      "source": [
        "## Tensor Reduction Examples"
      ],
      "metadata": {
        "id": "BWDKdQ9nvZxe"
      }
    },
    {
      "cell_type": "code",
      "source": [
        "# Create a tensor\n",
        "tensor = torch.tensor([[1, 2, 3],\n",
        "[4, 5, 6],\n",
        "[7, 8, 9]],dtype=torch.float64)\n",
        "print()\n",
        "print(\"Original Tensor:\")\n",
        "print(tensor)\n",
        "print()\n",
        "print(\"Tensor Shape:\", tensor.shape)\n",
        "print()\n",
        "\n",
        "# tensor reduction operations\n",
        "# Tensor Reduction Operations\n",
        "print('Along Dim 0')\n",
        "sum_result = torch.sum(tensor, dim=0)\n",
        "mean_result = torch.mean(tensor, dim=0)\n",
        "max_result = torch.max(tensor, dim=0)\n",
        "min_result = torch.min(tensor, dim=0)\n",
        "argmax_result = torch.argmax(tensor, dim=0)\n",
        "argmin_result = torch.argmin(tensor, dim=0)\n",
        "\n",
        "print(sum_result)\n",
        "print(mean_result)\n",
        "print(max_result)\n",
        "print(min_result)\n",
        "print(argmax_result)\n",
        "print(argmin_result)\n",
        "\n",
        "print('\\n')\n",
        "\n",
        "print('Along Dim 1')\n",
        "sum_result = torch.sum(tensor, dim=1)\n",
        "mean_result = torch.mean(tensor, dim=1)\n",
        "max_result = torch.max(tensor, dim=1)\n",
        "min_result = torch.min(tensor, dim=1)\n",
        "argmax_result = torch.argmax(tensor, dim=1)\n",
        "argmin_result = torch.argmin(tensor, dim=1)\n",
        "\n",
        "print(sum_result)\n",
        "print(mean_result)\n",
        "print(max_result)\n",
        "print(min_result)\n",
        "print(argmax_result)\n",
        "print(argmin_result)\n",
        "\n",
        "print('\\n')\n",
        "\n",
        "# Tensor Reduction Operations\n",
        "print(\"No dimension given\")\n",
        "sum_result = torch.sum(tensor)\n",
        "mean_result = torch.mean(tensor)\n",
        "max_result = torch.max(tensor)\n",
        "min_result = torch.min(tensor)\n",
        "argmax_result = torch.argmax(tensor)\n",
        "argmin_result = torch.argmin(tensor)\n",
        "\n",
        "print(sum_result)\n",
        "print(mean_result)\n",
        "print(max_result)\n",
        "print(min_result)\n",
        "print(argmax_result)\n",
        "print(argmin_result)\n"
      ],
      "metadata": {
        "colab": {
          "base_uri": "https://localhost:8080/"
        },
        "id": "xS20BtNmvfPG",
        "outputId": "e94d3b44-65fc-4a23-9266-542a7a06cfff"
      },
      "execution_count": null,
      "outputs": [
        {
          "output_type": "stream",
          "name": "stdout",
          "text": [
            "\n",
            "Original Tensor:\n",
            "tensor([[1., 2., 3.],\n",
            "        [4., 5., 6.],\n",
            "        [7., 8., 9.]], dtype=torch.float64)\n",
            "\n",
            "Tensor Shape: torch.Size([3, 3])\n",
            "\n",
            "Along Dim 0\n",
            "tensor([12., 15., 18.], dtype=torch.float64)\n",
            "tensor([4., 5., 6.], dtype=torch.float64)\n",
            "torch.return_types.max(\n",
            "values=tensor([7., 8., 9.], dtype=torch.float64),\n",
            "indices=tensor([2, 2, 2]))\n",
            "torch.return_types.min(\n",
            "values=tensor([1., 2., 3.], dtype=torch.float64),\n",
            "indices=tensor([0, 0, 0]))\n",
            "tensor([2, 2, 2])\n",
            "tensor([0, 0, 0])\n",
            "\n",
            "\n",
            "Along Dim 1\n",
            "tensor([ 6., 15., 24.], dtype=torch.float64)\n",
            "tensor([2., 5., 8.], dtype=torch.float64)\n",
            "torch.return_types.max(\n",
            "values=tensor([3., 6., 9.], dtype=torch.float64),\n",
            "indices=tensor([2, 2, 2]))\n",
            "torch.return_types.min(\n",
            "values=tensor([1., 4., 7.], dtype=torch.float64),\n",
            "indices=tensor([0, 0, 0]))\n",
            "tensor([2, 2, 2])\n",
            "tensor([0, 0, 0])\n",
            "\n",
            "\n",
            "No dimension given\n",
            "tensor(45., dtype=torch.float64)\n",
            "tensor(5., dtype=torch.float64)\n",
            "tensor(9., dtype=torch.float64)\n",
            "tensor(1., dtype=torch.float64)\n",
            "tensor(8)\n",
            "tensor(0)\n"
          ]
        }
      ]
    },
    {
      "cell_type": "markdown",
      "source": [
        "## Contiguous Example"
      ],
      "metadata": {
        "id": "XAc7h5Mo5PmA"
      }
    },
    {
      "cell_type": "code",
      "source": [
        "torch.arange(18)"
      ],
      "metadata": {
        "colab": {
          "base_uri": "https://localhost:8080/"
        },
        "id": "4KbVrzYcc-eq",
        "outputId": "8a0b066b-e5e3-45d0-967b-6bdfbb587c7d"
      },
      "execution_count": null,
      "outputs": [
        {
          "output_type": "execute_result",
          "data": {
            "text/plain": [
              "tensor([ 0,  1,  2,  3,  4,  5,  6,  7,  8,  9, 10, 11, 12, 13, 14, 15, 16, 17])"
            ]
          },
          "metadata": {},
          "execution_count": 72
        }
      ]
    },
    {
      "cell_type": "code",
      "source": [
        "# Create a tensor of shape [4, 3]\n",
        "x = torch.arange(12).view(4, 3)\n",
        "print('Tensor:', x)\n",
        "print('Stride:', x.stride())\n",
        "print(x.is_contiguous())"
      ],
      "metadata": {
        "colab": {
          "base_uri": "https://localhost:8080/"
        },
        "id": "dbzlrck-5PKo",
        "outputId": "45e374d0-964b-4095-c023-737292f1cd2f"
      },
      "execution_count": null,
      "outputs": [
        {
          "output_type": "stream",
          "name": "stdout",
          "text": [
            "Tensor: tensor([[ 0,  1,  2],\n",
            "        [ 3,  4,  5],\n",
            "        [ 6,  7,  8],\n",
            "        [ 9, 10, 11]])\n",
            "Stride: (3, 1)\n",
            "True\n"
          ]
        }
      ]
    },
    {
      "cell_type": "code",
      "source": [
        "torch.arange(12).view(6, -1)"
      ],
      "metadata": {
        "colab": {
          "base_uri": "https://localhost:8080/"
        },
        "id": "F5Gi0awafHAb",
        "outputId": "d278deec-1f47-48f0-bb0f-96c14cf4f215"
      },
      "execution_count": null,
      "outputs": [
        {
          "output_type": "execute_result",
          "data": {
            "text/plain": [
              "tensor([[ 0,  1],\n",
              "        [ 2,  3],\n",
              "        [ 4,  5],\n",
              "        [ 6,  7],\n",
              "        [ 8,  9],\n",
              "        [10, 11]])"
            ]
          },
          "metadata": {},
          "execution_count": 91
        }
      ]
    },
    {
      "cell_type": "code",
      "source": [
        "y = x.t()\n",
        "print('Tensor:', y)\n",
        "print('Stride:', y.stride())\n",
        "print(y.is_contiguous())"
      ],
      "metadata": {
        "colab": {
          "base_uri": "https://localhost:8080/"
        },
        "id": "pZ2X4Lvh5Ojy",
        "outputId": "1817433e-19f6-42a3-dc6b-2e473805e3bf"
      },
      "execution_count": null,
      "outputs": [
        {
          "output_type": "stream",
          "name": "stdout",
          "text": [
            "Tensor: tensor([[ 0,  3,  6,  9],\n",
            "        [ 1,  4,  7, 10],\n",
            "        [ 2,  5,  8, 11]])\n",
            "Stride: (1, 3)\n",
            "False\n"
          ]
        }
      ]
    },
    {
      "cell_type": "code",
      "source": [
        "#y.view(4, 3)\n",
        "y.reshape(4,3)"
      ],
      "metadata": {
        "colab": {
          "base_uri": "https://localhost:8080/"
        },
        "id": "DH6Fg661eQDq",
        "outputId": "5e7c1e53-f97f-40c1-e8c2-47c050784c96"
      },
      "execution_count": null,
      "outputs": [
        {
          "output_type": "execute_result",
          "data": {
            "text/plain": [
              "tensor([[ 0,  3,  6],\n",
              "        [ 9,  1,  4],\n",
              "        [ 7, 10,  2],\n",
              "        [ 5,  8, 11]])"
            ]
          },
          "metadata": {},
          "execution_count": 80
        }
      ]
    },
    {
      "cell_type": "markdown",
      "source": [
        "## Examples of view and reshape"
      ],
      "metadata": {
        "id": "0wOw7cR9xCDd"
      }
    },
    {
      "cell_type": "code",
      "source": [
        "# Create a contiguous 2D tensor\n",
        "tensor = torch. tensor([\n",
        "\t[1, 2, 3],\n",
        "\t[4, 5, 6]\n",
        "])\n",
        "# Reshape the tensor using view\n",
        "reshaped_tensor = tensor.view(3, 2)\n",
        "print(\"Original Tensor:\")\n",
        "print (tensor)\n",
        "print (\"\\nReshaped Tensor:\")\n",
        "print (reshaped_tensor)\n",
        "\n"
      ],
      "metadata": {
        "colab": {
          "base_uri": "https://localhost:8080/"
        },
        "id": "ZDd5G7LOxI7E",
        "outputId": "8173fb57-2c24-471d-cac4-3a25e989acf9"
      },
      "execution_count": null,
      "outputs": [
        {
          "output_type": "stream",
          "name": "stdout",
          "text": [
            "Original Tensor:\n",
            "tensor([[1, 2, 3],\n",
            "        [4, 5, 6]])\n",
            "\n",
            "Reshaped Tensor:\n",
            "tensor([[1, 2],\n",
            "        [3, 4],\n",
            "        [5, 6]])\n"
          ]
        }
      ]
    },
    {
      "cell_type": "code",
      "source": [],
      "metadata": {
        "id": "mvixfuiN45rs"
      },
      "execution_count": null,
      "outputs": []
    },
    {
      "cell_type": "code",
      "source": [
        "myList= [1,2,3,4]"
      ],
      "metadata": {
        "id": "uVLoAQtgetVp"
      },
      "execution_count": null,
      "outputs": []
    },
    {
      "cell_type": "code",
      "source": [
        "myList[-1]"
      ],
      "metadata": {
        "colab": {
          "base_uri": "https://localhost:8080/"
        },
        "id": "l7_BRvc5e2Lv",
        "outputId": "97ab4435-6d66-4da0-b413-3d00889c328a"
      },
      "execution_count": null,
      "outputs": [
        {
          "output_type": "execute_result",
          "data": {
            "text/plain": [
              "4"
            ]
          },
          "metadata": {},
          "execution_count": 83
        }
      ]
    },
    {
      "cell_type": "code",
      "source": [
        "myList[::-1]"
      ],
      "metadata": {
        "colab": {
          "base_uri": "https://localhost:8080/"
        },
        "id": "E4Y-eIuoew_9",
        "outputId": "6a11d3fa-38a2-4f51-e492-f3ae5ae11737"
      },
      "execution_count": null,
      "outputs": [
        {
          "output_type": "execute_result",
          "data": {
            "text/plain": [
              "[4, 3, 2, 1]"
            ]
          },
          "metadata": {},
          "execution_count": 82
        }
      ]
    },
    {
      "cell_type": "markdown",
      "source": [
        "## Examples of view and reshape"
      ],
      "metadata": {
        "id": "_nyX9aLpxSse"
      }
    },
    {
      "cell_type": "code",
      "source": [
        "import torch\n",
        "# Create a non-contiguous 2D tensor using slicing\n",
        "tensor = torch. tensor([[1, 2, 3, 4, 5, 6]])\n",
        "sliced_tensor = tensor[:, :3]\n",
        "# Reshape the tensor using reshape\n",
        "# reshaped_tensor = torch.reshape(sliced_tensor, (1, 3))\n",
        "# reshaped_tensor = torch.reshape(sliced_tensor, (3, 1))\n",
        "print (\"Original Tensor:\")\n",
        "print (sliced_tensor)\n",
        "print(\"\\nReshaped Tensor:\")\n",
        "print (reshaped_tensor)\n"
      ],
      "metadata": {
        "colab": {
          "base_uri": "https://localhost:8080/"
        },
        "id": "HrDc9ZuvxZNQ",
        "outputId": "dc819802-4aa7-49bd-95b5-1511f204aad7"
      },
      "execution_count": null,
      "outputs": [
        {
          "output_type": "stream",
          "name": "stdout",
          "text": [
            "Original Tensor:\n",
            "tensor([[1, 2, 3]])\n",
            "\n",
            "Reshaped Tensor:\n",
            "tensor([[1, 2],\n",
            "        [3, 4],\n",
            "        [5, 6]])\n"
          ]
        }
      ]
    },
    {
      "cell_type": "markdown",
      "source": [
        "Slide 37 : The -1 trick in view()"
      ],
      "metadata": {
        "id": "zRQJsMSZxiFA"
      }
    },
    {
      "cell_type": "code",
      "source": [
        "import torch\n",
        "# Create a tensor with size (2, 4)\n",
        "tensor = torch. tensor([\n",
        "\t[1, 2, 3, 4],\n",
        "\t[5, 6, 7, 8]\n",
        "])\n",
        "# Reshape the tensor using view and -1 trick\n",
        "reshaped_tensor = tensor.view(-1, 2)\n",
        "print(\"Original Tensor:\")\n",
        "print (tensor)\n",
        "print (\"\\\\n Reshaped Tensor:\")\n",
        "print (reshaped_tensor)\n"
      ],
      "metadata": {
        "colab": {
          "base_uri": "https://localhost:8080/"
        },
        "id": "cAfkbskgxnc0",
        "outputId": "fe6fc5cc-7ec1-4e6a-908f-e93563e1c80f"
      },
      "execution_count": null,
      "outputs": [
        {
          "output_type": "stream",
          "name": "stdout",
          "text": [
            "Original Tensor:\n",
            "tensor([[1, 2, 3, 4],\n",
            "        [5, 6, 7, 8]])\n",
            "\\n Reshaped Tensor:\n",
            "tensor([[1, 2],\n",
            "        [3, 4],\n",
            "        [5, 6],\n",
            "        [7, 8]])\n"
          ]
        }
      ]
    },
    {
      "cell_type": "code",
      "source": [
        "a= torch.ones(2,3,4)\n",
        "b= a.view(1,4,-1)\n",
        "print(b.shape)"
      ],
      "metadata": {
        "colab": {
          "base_uri": "https://localhost:8080/"
        },
        "id": "62ZcRavgYlZe",
        "outputId": "274ebf20-9ff0-4242-e839-7b49c1f77bed"
      },
      "execution_count": null,
      "outputs": [
        {
          "output_type": "stream",
          "name": "stdout",
          "text": [
            "torch.Size([1, 4, 6])\n"
          ]
        }
      ]
    },
    {
      "cell_type": "code",
      "source": [
        "## example\n",
        "x = torch.arange(24).view(2, 3, 4)\n",
        "print(x)\n",
        "print()\n",
        "print(x.view(1, 4, -1))"
      ],
      "metadata": {
        "colab": {
          "base_uri": "https://localhost:8080/"
        },
        "id": "AQjD_P-a6vL5",
        "outputId": "9661d4b3-6196-4762-b3b3-c27dba736db9"
      },
      "execution_count": null,
      "outputs": [
        {
          "output_type": "stream",
          "name": "stdout",
          "text": [
            "tensor([[[ 0,  1,  2,  3],\n",
            "         [ 4,  5,  6,  7],\n",
            "         [ 8,  9, 10, 11]],\n",
            "\n",
            "        [[12, 13, 14, 15],\n",
            "         [16, 17, 18, 19],\n",
            "         [20, 21, 22, 23]]])\n",
            "\n",
            "tensor([[[ 0,  1,  2,  3,  4,  5],\n",
            "         [ 6,  7,  8,  9, 10, 11],\n",
            "         [12, 13, 14, 15, 16, 17],\n",
            "         [18, 19, 20, 21, 22, 23]]])\n"
          ]
        }
      ]
    },
    {
      "cell_type": "code",
      "source": [
        "print(x.view(1, 4, -1).shape)"
      ],
      "metadata": {
        "colab": {
          "base_uri": "https://localhost:8080/"
        },
        "id": "7bBkCLJ9f6j9",
        "outputId": "fd977b8e-3ab6-44cb-c882-616b3410237f"
      },
      "execution_count": null,
      "outputs": [
        {
          "output_type": "stream",
          "name": "stdout",
          "text": [
            "torch.Size([1, 4, 6])\n"
          ]
        }
      ]
    },
    {
      "cell_type": "code",
      "source": [
        "x = torch.arange(20).view(1, 10,1, 2)\n",
        "print(x)\n",
        "print(x.shape)\n",
        "print(x.squeeze(0))\n",
        "print(x.squeeze().shape)# change dimension each side"
      ],
      "metadata": {
        "colab": {
          "base_uri": "https://localhost:8080/"
        },
        "id": "3J_5Po0DCSeJ",
        "outputId": "590a4083-4b09-450d-f025-29551f7931a3"
      },
      "execution_count": null,
      "outputs": [
        {
          "output_type": "stream",
          "name": "stdout",
          "text": [
            "tensor([[[[ 0,  1]],\n",
            "\n",
            "         [[ 2,  3]],\n",
            "\n",
            "         [[ 4,  5]],\n",
            "\n",
            "         [[ 6,  7]],\n",
            "\n",
            "         [[ 8,  9]],\n",
            "\n",
            "         [[10, 11]],\n",
            "\n",
            "         [[12, 13]],\n",
            "\n",
            "         [[14, 15]],\n",
            "\n",
            "         [[16, 17]],\n",
            "\n",
            "         [[18, 19]]]])\n",
            "torch.Size([1, 10, 1, 2])\n",
            "tensor([[[ 0,  1]],\n",
            "\n",
            "        [[ 2,  3]],\n",
            "\n",
            "        [[ 4,  5]],\n",
            "\n",
            "        [[ 6,  7]],\n",
            "\n",
            "        [[ 8,  9]],\n",
            "\n",
            "        [[10, 11]],\n",
            "\n",
            "        [[12, 13]],\n",
            "\n",
            "        [[14, 15]],\n",
            "\n",
            "        [[16, 17]],\n",
            "\n",
            "        [[18, 19]]])\n",
            "torch.Size([10, 2])\n"
          ]
        }
      ]
    },
    {
      "cell_type": "code",
      "source": [],
      "metadata": {
        "id": "ZbQrOsFRCX9f"
      },
      "execution_count": null,
      "outputs": []
    },
    {
      "cell_type": "code",
      "source": [
        "b"
      ],
      "metadata": {
        "id": "Sa_uN99oCXWd"
      },
      "execution_count": null,
      "outputs": []
    },
    {
      "cell_type": "markdown",
      "source": [
        "## Transpose"
      ],
      "metadata": {
        "id": "Zu1MCrzlxvQd"
      }
    },
    {
      "cell_type": "code",
      "source": [
        "# import torch\n",
        "# Example tensor\n",
        "x = torch.tensor([[1, 2, 3], [4, 5, 6]])\n",
        "print (\"Original tensor:\")\n",
        "print (x)\n",
        "print(\"Shape of original tensor:\", x.shape)\n",
        "# Transpose the tensor\n",
        "y = torch.transpose (x, 0, 1)\n",
        "print (\"Transposed tensor:\")\n",
        "print (y)\n",
        "print(\"Shape of transposed tensor:\", y.shape)\n",
        "\n"
      ],
      "metadata": {
        "colab": {
          "base_uri": "https://localhost:8080/"
        },
        "id": "Bh5iLw82xzNr",
        "outputId": "484ad6e2-74ce-46a8-8b9a-f7d28ab06d52"
      },
      "execution_count": null,
      "outputs": [
        {
          "output_type": "stream",
          "name": "stdout",
          "text": [
            "Original tensor:\n",
            "tensor([[1, 2, 3],\n",
            "        [4, 5, 6]])\n",
            "Shape of original tensor: torch.Size([2, 3])\n",
            "Transposed tensor:\n",
            "tensor([[1, 4],\n",
            "        [2, 5],\n",
            "        [3, 6]])\n",
            "Shape of transposed tensor: torch.Size([3, 2])\n"
          ]
        }
      ]
    },
    {
      "cell_type": "code",
      "source": [
        "# multi tensor setting\n",
        "x = torch.arange(24).view(2, 3, 4)\n",
        "print(x)\n",
        "print(x.shape)\n",
        "print()\n",
        "y = torch.transpose(x, 1, 2)# what happens if I put 0 and 1?\n",
        "y\n",
        "# print(x.t())"
      ],
      "metadata": {
        "colab": {
          "base_uri": "https://localhost:8080/"
        },
        "id": "zU_ODoU88SZ9",
        "outputId": "4f8a8d71-cccb-46d7-a74a-53158dc97af7"
      },
      "execution_count": null,
      "outputs": [
        {
          "output_type": "stream",
          "name": "stdout",
          "text": [
            "tensor([[[ 0,  1,  2,  3],\n",
            "         [ 4,  5,  6,  7],\n",
            "         [ 8,  9, 10, 11]],\n",
            "\n",
            "        [[12, 13, 14, 15],\n",
            "         [16, 17, 18, 19],\n",
            "         [20, 21, 22, 23]]])\n",
            "torch.Size([2, 3, 4])\n",
            "\n"
          ]
        },
        {
          "output_type": "execute_result",
          "data": {
            "text/plain": [
              "tensor([[[ 0,  4,  8],\n",
              "         [ 1,  5,  9],\n",
              "         [ 2,  6, 10],\n",
              "         [ 3,  7, 11]],\n",
              "\n",
              "        [[12, 16, 20],\n",
              "         [13, 17, 21],\n",
              "         [14, 18, 22],\n",
              "         [15, 19, 23]]])"
            ]
          },
          "metadata": {},
          "execution_count": 110
        }
      ]
    },
    {
      "cell_type": "markdown",
      "source": [
        "## Concatenating tensors"
      ],
      "metadata": {
        "id": "tHfvG4C1yAPn"
      }
    },
    {
      "cell_type": "code",
      "source": [
        "import torch\n",
        "# Create tensors\n",
        "tensor1 = torch.tensor ([\n",
        "[1, 2, 3],\n",
        "[4, 5, 6],\n",
        "[7, 8, 9]\n",
        "])\n",
        "tensor2 = torch.tensor([\n",
        "[10, 11, 12],\n",
        "[13, 14, 15],\n",
        "[16, 17, 18]\n",
        "])\n",
        "# Concatenate tensors along dimension 1\n",
        "concatenated_tensor = torch.cat((tensor1, tensor2), dim=0)#what happens with dim 0?\n",
        "# Display results\n",
        "print (\"Tensor 1:\")\n",
        "print (tensor1)\n",
        "print (\"\\nTensor 2:\")\n",
        "print (tensor2)\n",
        "print (\"\\nConcatenated Tensor:\")\n",
        "print (concatenated_tensor)\n",
        "\n"
      ],
      "metadata": {
        "colab": {
          "base_uri": "https://localhost:8080/"
        },
        "id": "0Bu1PsXbyFCn",
        "outputId": "1c5373ba-7592-4d1a-9a17-cff93e80cce0"
      },
      "execution_count": null,
      "outputs": [
        {
          "output_type": "stream",
          "name": "stdout",
          "text": [
            "Tensor 1:\n",
            "tensor([[1, 2, 3],\n",
            "        [4, 5, 6],\n",
            "        [7, 8, 9]])\n",
            "\n",
            "Tensor 2:\n",
            "tensor([[10, 11, 12],\n",
            "        [13, 14, 15],\n",
            "        [16, 17, 18]])\n",
            "\n",
            "Concatenated Tensor:\n",
            "tensor([[ 1,  2,  3],\n",
            "        [ 4,  5,  6],\n",
            "        [ 7,  8,  9],\n",
            "        [10, 11, 12],\n",
            "        [13, 14, 15],\n",
            "        [16, 17, 18]])\n"
          ]
        }
      ]
    },
    {
      "cell_type": "code",
      "source": [
        "torch.stack((tensor1, tensor2), dim=0)"
      ],
      "metadata": {
        "colab": {
          "base_uri": "https://localhost:8080/"
        },
        "id": "7F0IvgjCiACf",
        "outputId": "b86a9edf-24d9-4e37-cd93-d1973457cfa1"
      },
      "execution_count": null,
      "outputs": [
        {
          "output_type": "execute_result",
          "data": {
            "text/plain": [
              "tensor([[[ 1,  2,  3],\n",
              "         [ 4,  5,  6],\n",
              "         [ 7,  8,  9]],\n",
              "\n",
              "        [[10, 11, 12],\n",
              "         [13, 14, 15],\n",
              "         [16, 17, 18]]])"
            ]
          },
          "metadata": {},
          "execution_count": 102
        }
      ]
    },
    {
      "cell_type": "markdown",
      "source": [
        "## Splitting Tensors"
      ],
      "metadata": {
        "id": "udRotT-ZykMZ"
      }
    },
    {
      "cell_type": "code",
      "source": [
        "import torch\n",
        "# Create a tensor\n",
        "tensor = torch.tensor([[1, 2, 3],\n",
        "\t[4, 5, 6],\n",
        "\t[7, 8, 9],\n",
        "\t[10, 11, 12]\n",
        "])\n",
        "# Split the tensor along dimension 0 into two parts\n",
        "split_tensors = torch.split(tensor, split_size_or_sections=2, dim=0)\n",
        "# Display results\n",
        "print(\"Original Tensor:\")\n",
        "print (tensor)\n",
        "print (\"\\nSplit Tensors:\")\n",
        "for j, split_tensor in enumerate(split_tensors):\n",
        "  print(f\"Tensor split {j+1}\", split_tensor)\n",
        "\n"
      ],
      "metadata": {
        "colab": {
          "base_uri": "https://localhost:8080/"
        },
        "id": "cKWZmd_AynGp",
        "outputId": "a277790a-2dd6-4cc8-bada-32ec2434958c"
      },
      "execution_count": null,
      "outputs": [
        {
          "output_type": "stream",
          "name": "stdout",
          "text": [
            "Original Tensor:\n",
            "tensor([[ 1,  2,  3],\n",
            "        [ 4,  5,  6],\n",
            "        [ 7,  8,  9],\n",
            "        [10, 11, 12]])\n",
            "\n",
            "Split Tensors:\n",
            "Tensor split 1 tensor([[1, 2, 3],\n",
            "        [4, 5, 6]])\n",
            "Tensor split 2 tensor([[ 7,  8,  9],\n",
            "        [10, 11, 12]])\n"
          ]
        }
      ]
    },
    {
      "cell_type": "code",
      "source": [
        "# how is this different from view?\n",
        "# well with view, we are still keeping one tensor\n",
        "tensor.view(2, 2, 3)"
      ],
      "metadata": {
        "colab": {
          "base_uri": "https://localhost:8080/"
        },
        "id": "qt0_edAR-KrM",
        "outputId": "6858fa28-7e05-45d1-9a73-95e849617a4f"
      },
      "execution_count": null,
      "outputs": [
        {
          "output_type": "execute_result",
          "data": {
            "text/plain": [
              "tensor([[[ 1,  2,  3],\n",
              "         [ 4,  5,  6]],\n",
              "\n",
              "        [[ 7,  8,  9],\n",
              "         [10, 11, 12]]])"
            ]
          },
          "metadata": {},
          "execution_count": 54
        }
      ]
    },
    {
      "cell_type": "markdown",
      "source": [
        "## Stacking tensors"
      ],
      "metadata": {
        "id": "Sn4jXcN6zAim"
      }
    },
    {
      "cell_type": "code",
      "source": [
        "import torch\n",
        "# Create tensors\n",
        "tensor1 = torch. tensor ([\n",
        "[1, 2, 3],\n",
        "[4, 5, 6],\n",
        "[7, 8, 9]\n",
        "])\n",
        "tensor2 = torch.tensor([\n",
        "[10, 11, 12],\n",
        "[13, 14, 15],\n",
        "[16, 17, 18]\n",
        "])\n",
        "# Stack tensors along a new dimension\n",
        "stacked_tensor = torch.stack((tensor1, tensor2), dim=-1)\n",
        "# tensors are 3x3\n",
        "# dim = 0 will add a dimension to the combined 0th dimension\n",
        "# combined -> 1x3x3 -> stacked 2x3x3\n",
        "# dim=1 will add a dimension to the 1st dimension\n",
        "# combined -> 3x1x3 -> 3x2x3\n",
        "# dim=2 will add a dimension to the 2nd dimension\n",
        "# combined -> 3x3x1 -> 3x3x2\n",
        "\n",
        "# Display results\n",
        "print (\"Tensor 1:\")\n",
        "print (tensor1)\n",
        "print(\"\\nTensor 2:\")\n",
        "print (tensor2)\n",
        "print (\"\\nStacked Tensor:\")\n",
        "print (stacked_tensor)"
      ],
      "metadata": {
        "colab": {
          "base_uri": "https://localhost:8080/"
        },
        "id": "UU6T1mM-zD0T",
        "outputId": "6e9b036a-8614-4d21-b44c-c763f3fcd55e"
      },
      "execution_count": null,
      "outputs": [
        {
          "output_type": "stream",
          "name": "stdout",
          "text": [
            "Tensor 1:\n",
            "tensor([[1, 2, 3],\n",
            "        [4, 5, 6],\n",
            "        [7, 8, 9]])\n",
            "\n",
            "Tensor 2:\n",
            "tensor([[10, 11, 12],\n",
            "        [13, 14, 15],\n",
            "        [16, 17, 18]])\n",
            "\n",
            "Stacked Tensor:\n",
            "tensor([[[ 1, 10],\n",
            "         [ 2, 11],\n",
            "         [ 3, 12]],\n",
            "\n",
            "        [[ 4, 13],\n",
            "         [ 5, 14],\n",
            "         [ 6, 15]],\n",
            "\n",
            "        [[ 7, 16],\n",
            "         [ 8, 17],\n",
            "         [ 9, 18]]])\n"
          ]
        }
      ]
    },
    {
      "cell_type": "code",
      "source": [
        "stacked_tensor.shape"
      ],
      "metadata": {
        "colab": {
          "base_uri": "https://localhost:8080/"
        },
        "id": "l-DK4901aspu",
        "outputId": "752690fc-a56e-4fd9-cd6a-6ae4bc78c078"
      },
      "execution_count": null,
      "outputs": [
        {
          "output_type": "execute_result",
          "data": {
            "text/plain": [
              "torch.Size([3, 3, 2])"
            ]
          },
          "metadata": {},
          "execution_count": 56
        }
      ]
    },
    {
      "cell_type": "markdown",
      "source": [
        "### Useful functions for Debugging"
      ],
      "metadata": {
        "id": "QvjKp5qCgRzQ"
      }
    },
    {
      "cell_type": "code",
      "source": [
        "X = torch.tensor([[1., 2.], [3., 4.], [5., 6.]])\n",
        "X.storage()"
      ],
      "metadata": {
        "colab": {
          "base_uri": "https://localhost:8080/"
        },
        "id": "32S5gcc8gQiz",
        "outputId": "f37a8418-9923-4eb1-abb7-a9364b58ed9c"
      },
      "execution_count": null,
      "outputs": [
        {
          "output_type": "execute_result",
          "data": {
            "text/plain": [
              " 1.0\n",
              " 2.0\n",
              " 3.0\n",
              " 4.0\n",
              " 5.0\n",
              " 6.0\n",
              "[torch.storage.TypedStorage(dtype=torch.float32, device=cpu) of size 6]"
            ]
          },
          "metadata": {},
          "execution_count": 119
        }
      ]
    },
    {
      "cell_type": "code",
      "source": [
        "X.is_contiguous()"
      ],
      "metadata": {
        "colab": {
          "base_uri": "https://localhost:8080/"
        },
        "id": "TsTJNDbPgeaa",
        "outputId": "4a2912d6-2ec2-4320-bdba-54ab764d7cef"
      },
      "execution_count": null,
      "outputs": [
        {
          "output_type": "execute_result",
          "data": {
            "text/plain": [
              "True"
            ]
          },
          "metadata": {},
          "execution_count": 120
        }
      ]
    },
    {
      "cell_type": "code",
      "source": [
        "X1= torch.tensor([[1, 2, 3, 4, 5, 6], [11, 12, 13, 14, 15, 16]])\n",
        "print(X1)\n",
        "print(X1.is_contiguous())\n",
        "sliced= X1[:,::2]\n",
        "print(\" \")\n",
        "print(sliced)\n",
        "print(sliced.view(6,1).is_contiguous())"
      ],
      "metadata": {
        "colab": {
          "base_uri": "https://localhost:8080/"
        },
        "id": "dUgX_sTcgmc5",
        "outputId": "dfcb258d-8dae-457e-8cb7-710c3065cadf"
      },
      "execution_count": null,
      "outputs": [
        {
          "output_type": "stream",
          "name": "stdout",
          "text": [
            "tensor([[ 1,  2,  3,  4,  5,  6],\n",
            "        [11, 12, 13, 14, 15, 16]])\n",
            "True\n",
            " \n",
            "tensor([[ 1,  3,  5],\n",
            "        [11, 13, 15]])\n",
            "False\n"
          ]
        }
      ]
    },
    {
      "cell_type": "code",
      "source": [
        "print(sliced)"
      ],
      "metadata": {
        "colab": {
          "base_uri": "https://localhost:8080/"
        },
        "id": "yJ3zhXmwlB8b",
        "outputId": "f0e2b64a-39aa-4d34-cef8-75a0a05832b6"
      },
      "execution_count": null,
      "outputs": [
        {
          "output_type": "stream",
          "name": "stdout",
          "text": [
            "tensor([[ 1,  3,  5],\n",
            "        [11, 13, 15]])\n"
          ]
        }
      ]
    },
    {
      "cell_type": "code",
      "source": [
        "sliced.storage()"
      ],
      "metadata": {
        "colab": {
          "base_uri": "https://localhost:8080/"
        },
        "id": "fSPuac8Jk9cI",
        "outputId": "47eb2ad9-8cd9-4236-836e-38990e8c2da7"
      },
      "execution_count": null,
      "outputs": [
        {
          "output_type": "execute_result",
          "data": {
            "text/plain": [
              " 1\n",
              " 2\n",
              " 3\n",
              " 4\n",
              " 5\n",
              " 6\n",
              " 11\n",
              " 12\n",
              " 13\n",
              " 14\n",
              " 15\n",
              " 16\n",
              "[torch.storage.TypedStorage(dtype=torch.int64, device=cpu) of size 12]"
            ]
          },
          "metadata": {},
          "execution_count": 129
        }
      ]
    },
    {
      "cell_type": "code",
      "source": [],
      "metadata": {
        "id": "PB2e2qiGk9Ki"
      },
      "execution_count": null,
      "outputs": []
    },
    {
      "cell_type": "code",
      "source": [],
      "metadata": {
        "id": "K0ttLuaCg8eR"
      },
      "execution_count": null,
      "outputs": []
    },
    {
      "cell_type": "code",
      "source": [
        "# How to make it contigious & How to debug"
      ],
      "metadata": {
        "id": "USpagNpYg8Yl"
      },
      "execution_count": null,
      "outputs": []
    },
    {
      "cell_type": "code",
      "source": [],
      "metadata": {
        "id": "HypsyfzEgmbE"
      },
      "execution_count": null,
      "outputs": []
    },
    {
      "cell_type": "code",
      "source": [],
      "metadata": {
        "id": "1LpicGoWgeX8"
      },
      "execution_count": null,
      "outputs": []
    },
    {
      "cell_type": "code",
      "source": [],
      "metadata": {
        "id": "7A4BZ-eFgQbP"
      },
      "execution_count": null,
      "outputs": []
    },
    {
      "cell_type": "markdown",
      "source": [
        "## Example of Gradient calculation - using Autograd"
      ],
      "metadata": {
        "id": "NOSt_Fk7zKJd"
      }
    },
    {
      "cell_type": "code",
      "source": [
        "import torch\n",
        "# Enable gradient tracking\n",
        "x = torch.tensor(3.0, requires_grad=True)\n",
        "# Perform operations on the tensor\n",
        "y = 2 * x + 1\n",
        "z = y ** 2\n",
        "# Compute gradients\n",
        "z.backward()\n",
        "\n",
        "# Access the computed gradients\n",
        "x_grad = x.grad\n",
        "\n",
        "print(x_grad)"
      ],
      "metadata": {
        "id": "FySgkdiAzNXB",
        "colab": {
          "base_uri": "https://localhost:8080/"
        },
        "outputId": "0da45f67-86db-4865-f83a-8c545ec97c6e"
      },
      "execution_count": null,
      "outputs": [
        {
          "output_type": "stream",
          "name": "stdout",
          "text": [
            "tensor(28.)\n"
          ]
        }
      ]
    },
    {
      "cell_type": "markdown",
      "source": [
        "Slide 52 : Detaching and no grad()"
      ],
      "metadata": {
        "id": "dZPM53mUzZWL"
      }
    },
    {
      "cell_type": "code",
      "source": [
        "import torch\n",
        "# Create a tensor with tracking enabled\n",
        "x = torch.tensor([3.0], requires_grad=True)\n",
        "# Perform operations on the tensor\n",
        "y = x**2 + 2*x + 1\n",
        "# Stop tracking gradients using detach()\n",
        "z = y.detach()\n",
        "\n",
        "# Perform further operations without tracking\n",
        "with torch.no_grad() :\n",
        "  w = z * 2\n",
        "print(w)"
      ],
      "metadata": {
        "colab": {
          "base_uri": "https://localhost:8080/"
        },
        "id": "PWx3fNy2zgYV",
        "outputId": "eb453717-66bf-4289-f173-b203052d1076"
      },
      "execution_count": null,
      "outputs": [
        {
          "output_type": "stream",
          "name": "stdout",
          "text": [
            "tensor([32.])\n"
          ]
        }
      ]
    },
    {
      "cell_type": "markdown",
      "source": [
        "Slide 53 : Advanced Autograd operations"
      ],
      "metadata": {
        "id": "LROibuZSzzPF"
      }
    },
    {
      "cell_type": "code",
      "source": [
        "import torch\n",
        "x = torch. tensor([2.0], requires_grad=True)\n",
        "y = torch.tensor([3.0], requires_grad=True)\n",
        "z = x ** 2 + y ** 3\n",
        "z.backward(retain_graph=True) # Specify retain_graph=True\n",
        "print(x.grad) # Partial derivative of z with respect to x\n",
        "print(y.grad) # Partial derivative of z with respect to y\n",
        "z.backward (retain_graph=True)\n",
        "print(x.grad) # Second-order partial derivative of z with respect to X\n",
        "print(y.grad) # Second-order partial derivative of z with respect to y\n",
        "z.backward ()\n",
        "print(x.grad)\n",
        "print(y.grad)"
      ],
      "metadata": {
        "colab": {
          "base_uri": "https://localhost:8080/"
        },
        "id": "E6SCjaOAz4TA",
        "outputId": "3a8c4a69-e8b4-4d01-db87-e809aea8ca53"
      },
      "execution_count": null,
      "outputs": [
        {
          "output_type": "stream",
          "name": "stdout",
          "text": [
            "tensor([4.])\n",
            "tensor([27.])\n",
            "tensor([8.])\n",
            "tensor([54.])\n",
            "tensor([12.])\n",
            "tensor([81.])\n"
          ]
        }
      ]
    },
    {
      "cell_type": "markdown",
      "source": [
        "Slide 55: Advanced autograd operations"
      ],
      "metadata": {
        "id": "US1uHNyK0izH"
      }
    },
    {
      "cell_type": "code",
      "source": [
        "import torch\n",
        "from torch.autograd.functional import hessian\n",
        "\n",
        "# Create a tensor with requires_grad=True\n",
        "x = torch.tensor([[1.0, 2.0, 3.0], [2.5, 3.5, 4.5]], requires_grad=True)\n",
        "\n",
        "print(x)\n",
        "# Define a function that returns a scalar\n",
        "def scalar_function(x):\n",
        "  return (x ** 3).sum()\n",
        "\n",
        "# Compute the Hessian matrix\n",
        "hessian_matrix = hessian (scalar_function, x)\n",
        "\n",
        "# Access the Hessian matrix\n",
        "print (hessian_matrix)\n",
        "\n"
      ],
      "metadata": {
        "colab": {
          "base_uri": "https://localhost:8080/"
        },
        "id": "CoRms-A00mOQ",
        "outputId": "a4ebf08e-96a2-44c7-e2fa-9d1ca306ba6e"
      },
      "execution_count": null,
      "outputs": [
        {
          "output_type": "stream",
          "name": "stdout",
          "text": [
            "tensor([[1.0000, 2.0000, 3.0000],\n",
            "        [2.5000, 3.5000, 4.5000]], requires_grad=True)\n",
            "tensor([[[[ 6.,  0.,  0.],\n",
            "          [ 0.,  0.,  0.]],\n",
            "\n",
            "         [[ 0., 12.,  0.],\n",
            "          [ 0.,  0.,  0.]],\n",
            "\n",
            "         [[ 0.,  0., 18.],\n",
            "          [ 0.,  0.,  0.]]],\n",
            "\n",
            "\n",
            "        [[[ 0.,  0.,  0.],\n",
            "          [15.,  0.,  0.]],\n",
            "\n",
            "         [[ 0.,  0.,  0.],\n",
            "          [ 0., 21.,  0.]],\n",
            "\n",
            "         [[ 0.,  0.,  0.],\n",
            "          [ 0.,  0., 27.]]]])\n"
          ]
        }
      ]
    },
    {
      "cell_type": "markdown",
      "source": [
        " Slide 57: Example of Pytorch Eager mode"
      ],
      "metadata": {
        "id": "8yuMPits0-3q"
      }
    },
    {
      "cell_type": "code",
      "source": [
        "import torch\n",
        "# Initializing input tensors\n",
        "a = torch.tensor(15.0,requires_grad=True)\n",
        "b = torch.tensor(20.0,requires_grad=True)\n",
        "# Enable eager mode execution\n",
        "torch.set_grad_enabled(True)\n",
        "# Computing the output\n",
        "c = a * b\n",
        "# Computing the gradients\n",
        "c.backward()\n",
        "# Collecting the output gradient of the\n",
        "# output with respect to the input 'a'\n",
        "derivative_out_a = a.grad\n",
        "# Collecting the output gradient of the\n",
        "# output with respect to the input 'b'\n",
        "derivative_out_b = b.grad\n",
        "# Displaying the outputs\n",
        "print(f'a = {a}')\n",
        "print(f'b = {b}')\n",
        "print (f'c = {c}')\n",
        "print(f'Derivative of c with respect to a = {derivative_out_a}')\n",
        "print(f'Derivative of c with respect to b = {derivative_out_b}')\n",
        "\n"
      ],
      "metadata": {
        "colab": {
          "base_uri": "https://localhost:8080/"
        },
        "id": "vnK3wgw81GpD",
        "outputId": "782c5ceb-0e08-4de8-97be-413bdd50c755"
      },
      "execution_count": null,
      "outputs": [
        {
          "output_type": "stream",
          "name": "stdout",
          "text": [
            "a = 15.0\n",
            "b = 20.0\n",
            "c = 300.0\n",
            "Derivative of c with respect to a = 20.0\n",
            "Derivative of c with respect to b = 15.0\n"
          ]
        }
      ]
    },
    {
      "cell_type": "markdown",
      "source": [
        "Slide 60: Example of JIT"
      ],
      "metadata": {
        "id": "BODm_YKV2Mlb"
      }
    },
    {
      "cell_type": "code",
      "source": [
        "import torch\n",
        "import torch.nn as nn\n",
        "# Define the model as a class\n",
        "class MultiplyModel (nn.Module):\n",
        "       def __init__(self):\n",
        "          super(MultiplyModel, self).__init__()\n",
        "          self.linear = nn.Linear(1, 1)\n",
        "       def forward(self, x):\n",
        "          return self.linear(x)\n",
        "\n",
        "# Create an instance of the model\n",
        "model = MultiplyModel()\n",
        "# Create example inputs\n",
        "\n",
        "a = torch.tensor([15.0])\n",
        "b = torch.tensor([20.0])\n",
        "\n",
        "# Compile the model to a static graph using JIT\n",
        "model = torch.jit.trace(model, a)\n",
        "\n",
        "# Execute the model on the inputs\n",
        "c = model(a * b)\n",
        "\n",
        "# Display the output\n",
        "print (f'c = {c}')\n",
        "\n",
        "# for p in model.parameters():\n",
        "#     if p.requires_grad:\n",
        "#          print(p.name, p.data)\n",
        "\n"
      ],
      "metadata": {
        "colab": {
          "base_uri": "https://localhost:8080/"
        },
        "id": "8CSWro5c2SU4",
        "outputId": "169e5630-029e-41d5-d645-a63c0568a266"
      },
      "execution_count": null,
      "outputs": [
        {
          "output_type": "stream",
          "name": "stdout",
          "text": [
            "c = tensor([85.8739], grad_fn=<ViewBackward0>)\n"
          ]
        }
      ]
    },
    {
      "cell_type": "code",
      "source": [],
      "metadata": {
        "id": "YLoo6aMnEHLF"
      },
      "execution_count": null,
      "outputs": []
    },
    {
      "cell_type": "code",
      "source": [],
      "metadata": {
        "id": "X2nNbM7PEHaO"
      },
      "execution_count": null,
      "outputs": []
    },
    {
      "cell_type": "code",
      "source": [],
      "metadata": {
        "id": "pmQ5da-6EEZ2"
      },
      "execution_count": null,
      "outputs": []
    },
    {
      "cell_type": "code",
      "source": [],
      "metadata": {
        "id": "qBgQHjzJwnIE"
      },
      "execution_count": null,
      "outputs": []
    },
    {
      "cell_type": "code",
      "source": [
        "X = torch.tensor([[1., 2.], [3., 4.], [5., 6.]])\n",
        "X.storage()"
      ],
      "metadata": {
        "colab": {
          "base_uri": "https://localhost:8080/"
        },
        "id": "d8m7vBSiXxNJ",
        "outputId": "b5d38300-a1e4-463e-81f4-eed2e677dd11"
      },
      "execution_count": null,
      "outputs": [
        {
          "output_type": "stream",
          "name": "stderr",
          "text": [
            "<ipython-input-4-2dd74cf2e127>:2: UserWarning: TypedStorage is deprecated. It will be removed in the future and UntypedStorage will be the only storage class. This should only matter to you if you are using storages directly.  To access UntypedStorage directly, use tensor.untyped_storage() instead of tensor.storage()\n",
            "  X.storage()\n"
          ]
        },
        {
          "output_type": "execute_result",
          "data": {
            "text/plain": [
              " 1.0\n",
              " 2.0\n",
              " 3.0\n",
              " 4.0\n",
              " 5.0\n",
              " 6.0\n",
              "[torch.storage.TypedStorage(dtype=torch.float32, device=cpu) of size 6]"
            ]
          },
          "metadata": {},
          "execution_count": 4
        }
      ]
    },
    {
      "cell_type": "code",
      "source": [
        "X.is_contiguous()"
      ],
      "metadata": {
        "colab": {
          "base_uri": "https://localhost:8080/"
        },
        "id": "kRwg222_X2cQ",
        "outputId": "cae6ed4e-beb5-478b-fdfc-f07de97016cd"
      },
      "execution_count": null,
      "outputs": [
        {
          "output_type": "execute_result",
          "data": {
            "text/plain": [
              "True"
            ]
          },
          "metadata": {},
          "execution_count": 5
        }
      ]
    },
    {
      "cell_type": "code",
      "source": [],
      "metadata": {
        "id": "CRKsYm2qYCLU"
      },
      "execution_count": null,
      "outputs": []
    },
    {
      "cell_type": "code",
      "source": [
        "X1= torch.tensor([[1, 2, 3, 4, 5, 6], [11, 12, 13, 14, 15, 16]])\n",
        "X1.storage()"
      ],
      "metadata": {
        "colab": {
          "base_uri": "https://localhost:8080/"
        },
        "id": "j2NItsIxYBuB",
        "outputId": "bb9f30e1-d6e1-400e-d1b9-f340f83c8e92"
      },
      "execution_count": null,
      "outputs": [
        {
          "output_type": "execute_result",
          "data": {
            "text/plain": [
              " 1\n",
              " 2\n",
              " 3\n",
              " 4\n",
              " 5\n",
              " 6\n",
              " 11\n",
              " 12\n",
              " 13\n",
              " 14\n",
              " 15\n",
              " 16\n",
              "[torch.storage.TypedStorage(dtype=torch.int64, device=cpu) of size 12]"
            ]
          },
          "metadata": {},
          "execution_count": 6
        }
      ]
    },
    {
      "cell_type": "code",
      "source": [
        "X1.is_contiguous()"
      ],
      "metadata": {
        "colab": {
          "base_uri": "https://localhost:8080/"
        },
        "id": "BpIa_y5mY2mS",
        "outputId": "3036c402-d4ce-444e-c694-b4951701ee18"
      },
      "execution_count": null,
      "outputs": [
        {
          "output_type": "execute_result",
          "data": {
            "text/plain": [
              "True"
            ]
          },
          "metadata": {},
          "execution_count": 11
        }
      ]
    },
    {
      "cell_type": "code",
      "source": [
        "X1.storage()"
      ],
      "metadata": {
        "colab": {
          "base_uri": "https://localhost:8080/"
        },
        "id": "sgleU6AQaPVn",
        "outputId": "b8a2f5e3-a1d1-4a86-ead6-b90adaade3d6"
      },
      "execution_count": null,
      "outputs": [
        {
          "output_type": "execute_result",
          "data": {
            "text/plain": [
              " 1\n",
              " 2\n",
              " 3\n",
              " 4\n",
              " 5\n",
              " 6\n",
              " 11\n",
              " 12\n",
              " 13\n",
              " 14\n",
              " 15\n",
              " 16\n",
              "[torch.storage.TypedStorage(dtype=torch.int64, device=cpu) of size 12]"
            ]
          },
          "metadata": {},
          "execution_count": 20
        }
      ]
    },
    {
      "cell_type": "code",
      "source": [
        "X1[:,::2]"
      ],
      "metadata": {
        "colab": {
          "base_uri": "https://localhost:8080/"
        },
        "id": "EeVnImsEYU5G",
        "outputId": "6d97c0b8-3a68-45e6-be19-dc157980260a"
      },
      "execution_count": null,
      "outputs": [
        {
          "output_type": "execute_result",
          "data": {
            "text/plain": [
              "tensor([[ 1,  3,  5],\n",
              "        [11, 13, 15]])"
            ]
          },
          "metadata": {},
          "execution_count": 7
        }
      ]
    },
    {
      "cell_type": "code",
      "source": [
        "sliced= X1[:,::2].clone()\n",
        "print(sliced)\n",
        "sliced.storage()"
      ],
      "metadata": {
        "colab": {
          "base_uri": "https://localhost:8080/"
        },
        "id": "uvvuarxKYZEV",
        "outputId": "8aefb64d-0767-4ceb-ae47-948dca6eeb3d"
      },
      "execution_count": null,
      "outputs": [
        {
          "output_type": "stream",
          "name": "stdout",
          "text": [
            "tensor([[ 1,  3,  5],\n",
            "        [11, 13, 15]])\n"
          ]
        },
        {
          "output_type": "execute_result",
          "data": {
            "text/plain": [
              " 1\n",
              " 3\n",
              " 5\n",
              " 11\n",
              " 13\n",
              " 15\n",
              "[torch.storage.TypedStorage(dtype=torch.int64, device=cpu) of size 6]"
            ]
          },
          "metadata": {},
          "execution_count": 22
        }
      ]
    },
    {
      "cell_type": "code",
      "source": [
        "sliced.is_contiguous()"
      ],
      "metadata": {
        "colab": {
          "base_uri": "https://localhost:8080/"
        },
        "id": "bKGDkB0aY5Nv",
        "outputId": "b6af9341-4b1e-429a-e3ff-9fe5d625eec1"
      },
      "execution_count": null,
      "outputs": [
        {
          "output_type": "execute_result",
          "data": {
            "text/plain": [
              "True"
            ]
          },
          "metadata": {},
          "execution_count": 23
        }
      ]
    },
    {
      "cell_type": "code",
      "source": [
        "sliced.view(6,1).is_contiguous()"
      ],
      "metadata": {
        "colab": {
          "base_uri": "https://localhost:8080/"
        },
        "id": "aHr7H6jrZTh0",
        "outputId": "f79b148b-f51f-4d0a-accf-643b69fdf74a"
      },
      "execution_count": null,
      "outputs": [
        {
          "output_type": "execute_result",
          "data": {
            "text/plain": [
              "True"
            ]
          },
          "metadata": {},
          "execution_count": 25
        }
      ]
    },
    {
      "cell_type": "code",
      "source": [],
      "metadata": {
        "id": "lhE2SSVLaOZP"
      },
      "execution_count": null,
      "outputs": []
    },
    {
      "cell_type": "code",
      "source": [],
      "metadata": {
        "id": "H8Y1nwONaOWs"
      },
      "execution_count": null,
      "outputs": []
    }
  ]
}