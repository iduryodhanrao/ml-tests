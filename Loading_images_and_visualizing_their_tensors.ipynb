{
  "nbformat": 4,
  "nbformat_minor": 0,
  "metadata": {
    "colab": {
      "provenance": [],
      "include_colab_link": true
    },
    "kernelspec": {
      "name": "python3",
      "display_name": "Python 3"
    },
    "language_info": {
      "name": "python"
    }
  },
  "cells": [
    {
      "cell_type": "markdown",
      "metadata": {
        "id": "view-in-github",
        "colab_type": "text"
      },
      "source": [
        "<a href=\"https://colab.research.google.com/github/iduryodhanrao/ml-tests/blob/main/Loading_images_and_visualizing_their_tensors.ipynb\" target=\"_parent\"><img src=\"https://colab.research.google.com/assets/colab-badge.svg\" alt=\"Open In Colab\"/></a>"
      ]
    },
    {
      "cell_type": "code",
      "execution_count": null,
      "metadata": {
        "id": "uXHXdy9Fl-aX"
      },
      "outputs": [],
      "source": [
        "import torch\n",
        "import torchvision\n",
        "import torchvision.transforms as transforms"
      ]
    },
    {
      "cell_type": "code",
      "source": [
        "transform = transforms.Compose(\n",
        "    [transforms.ToTensor(),\n",
        "     transforms.Normalize((0.5, 0.5, 0.5), (0.5, 0.5, 0.5))])\n",
        "\n",
        "batch_size = 4\n",
        "\n",
        "trainset = torchvision.datasets.CIFAR10(root='./data', train=True,\n",
        "                                        download=True, transform=transform)\n",
        "trainloader = torch.utils.data.DataLoader(trainset, batch_size=batch_size,\n",
        "                                          shuffle=True, num_workers=2)\n",
        "\n",
        "testset = torchvision.datasets.CIFAR10(root='./data', train=False,\n",
        "                                       download=True, transform=transform)\n",
        "testloader = torch.utils.data.DataLoader(testset, batch_size=batch_size,\n",
        "                                         shuffle=False, num_workers=2)\n",
        "\n",
        "classes = ('plane', 'car', 'bird', 'cat',\n",
        "           'deer', 'dog', 'frog', 'horse', 'ship', 'truck')"
      ],
      "metadata": {
        "colab": {
          "base_uri": "https://localhost:8080/"
        },
        "id": "L14QRikpm_D5",
        "outputId": "57a712ef-839c-4665-ac33-eadfbd3e712f"
      },
      "execution_count": null,
      "outputs": [
        {
          "output_type": "stream",
          "name": "stdout",
          "text": [
            "Downloading https://www.cs.toronto.edu/~kriz/cifar-10-python.tar.gz to ./data/cifar-10-python.tar.gz\n"
          ]
        },
        {
          "output_type": "stream",
          "name": "stderr",
          "text": [
            "100%|██████████| 170498071/170498071 [00:04<00:00, 40204735.24it/s]\n"
          ]
        },
        {
          "output_type": "stream",
          "name": "stdout",
          "text": [
            "Extracting ./data/cifar-10-python.tar.gz to ./data\n",
            "Files already downloaded and verified\n"
          ]
        }
      ]
    },
    {
      "cell_type": "code",
      "source": [
        "import matplotlib.pyplot as plt\n",
        "import numpy as np\n",
        "\n",
        "# functions to show an image\n",
        "\n",
        "\n",
        "def imshow(img):\n",
        "    img = img / 2 + 0.5     # unnormalize\n",
        "    npimg = img.numpy()\n",
        "    plt.imshow(np.transpose(npimg, (1, 2, 0)))\n",
        "    plt.show()"
      ],
      "metadata": {
        "id": "Dgs7Ddx2nDYZ"
      },
      "execution_count": null,
      "outputs": []
    },
    {
      "cell_type": "code",
      "source": [
        "# get some random training images\n",
        "dataiter = iter(trainloader)\n",
        "images, labels = next(dataiter)"
      ],
      "metadata": {
        "id": "6qYHQc3MnH-B"
      },
      "execution_count": null,
      "outputs": []
    },
    {
      "cell_type": "code",
      "source": [
        "dataiter"
      ],
      "metadata": {
        "colab": {
          "base_uri": "https://localhost:8080/"
        },
        "id": "G-4unQSSYw61",
        "outputId": "eb80514b-afd1-4dee-968d-e8f5d1c70a9e"
      },
      "execution_count": null,
      "outputs": [
        {
          "output_type": "execute_result",
          "data": {
            "text/plain": [
              "<torch.utils.data.dataloader._MultiProcessingDataLoaderIter at 0x7e72672a2170>"
            ]
          },
          "metadata": {},
          "execution_count": 5
        }
      ]
    },
    {
      "cell_type": "code",
      "source": [
        "type(images)"
      ],
      "metadata": {
        "colab": {
          "base_uri": "https://localhost:8080/"
        },
        "id": "lyxzT6-U89pR",
        "outputId": "c881fe67-1cfa-4c82-fbc3-231093c2699a"
      },
      "execution_count": null,
      "outputs": [
        {
          "output_type": "execute_result",
          "data": {
            "text/plain": [
              "torch.Tensor"
            ]
          },
          "metadata": {},
          "execution_count": 6
        }
      ]
    },
    {
      "cell_type": "code",
      "source": [
        "type(labels)"
      ],
      "metadata": {
        "colab": {
          "base_uri": "https://localhost:8080/"
        },
        "id": "1oDfejGwBT2v",
        "outputId": "d6165d54-4fee-467b-a1a7-fee1b4825a73"
      },
      "execution_count": null,
      "outputs": [
        {
          "output_type": "execute_result",
          "data": {
            "text/plain": [
              "torch.Tensor"
            ]
          },
          "metadata": {},
          "execution_count": 7
        }
      ]
    },
    {
      "cell_type": "code",
      "source": [
        "images.shape"
      ],
      "metadata": {
        "colab": {
          "base_uri": "https://localhost:8080/"
        },
        "id": "yk-zSJOXnPAv",
        "outputId": "d60b9bf8-cf4b-4e05-829c-3165430df73c"
      },
      "execution_count": null,
      "outputs": [
        {
          "output_type": "execute_result",
          "data": {
            "text/plain": [
              "torch.Size([4, 3, 32, 32])"
            ]
          },
          "metadata": {},
          "execution_count": 12
        }
      ]
    },
    {
      "cell_type": "code",
      "source": [
        "labels.shape"
      ],
      "metadata": {
        "colab": {
          "base_uri": "https://localhost:8080/"
        },
        "id": "84pxefUU9ELT",
        "outputId": "0d194fc3-8f77-46aa-c3d0-1a68040d0ebe"
      },
      "execution_count": null,
      "outputs": [
        {
          "output_type": "execute_result",
          "data": {
            "text/plain": [
              "torch.Size([4])"
            ]
          },
          "metadata": {},
          "execution_count": 11
        }
      ]
    },
    {
      "cell_type": "code",
      "source": [
        "images[3].shape"
      ],
      "metadata": {
        "colab": {
          "base_uri": "https://localhost:8080/"
        },
        "id": "5VaekgaSnSMk",
        "outputId": "762328c2-f89c-48a6-9e14-5236a833ba9f"
      },
      "execution_count": null,
      "outputs": [
        {
          "output_type": "execute_result",
          "data": {
            "text/plain": [
              "torch.Size([3, 32, 32])"
            ]
          },
          "metadata": {},
          "execution_count": 13
        }
      ]
    },
    {
      "cell_type": "code",
      "source": [
        "# Image Intencity of Various Channel: Iterate through Index\n",
        "# 2=> Blue; 0=> Red ; 1 => Green\n",
        "images[0][1]"
      ],
      "metadata": {
        "colab": {
          "base_uri": "https://localhost:8080/"
        },
        "id": "C1KW-9TJZCb5",
        "outputId": "574dc682-8be1-4b54-e93f-140b638d129f"
      },
      "execution_count": null,
      "outputs": [
        {
          "output_type": "execute_result",
          "data": {
            "text/plain": [
              "tensor([[0.9059, 0.9059, 0.8588,  ..., 0.7098, 0.7020, 0.6784],\n",
              "        [0.7961, 0.8353, 0.8588,  ..., 0.7020, 0.6941, 0.6627],\n",
              "        [0.7725, 0.8039, 0.8353,  ..., 0.7647, 0.7490, 0.7020],\n",
              "        ...,\n",
              "        [0.0980, 0.1294, 0.1451,  ..., 0.0980, 0.0980, 0.0824],\n",
              "        [0.0980, 0.1137, 0.0980,  ..., 0.0902, 0.0745, 0.0745],\n",
              "        [0.0745, 0.0902, 0.0824,  ..., 0.0745, 0.0745, 0.0745]])"
            ]
          },
          "metadata": {},
          "execution_count": 14
        }
      ]
    },
    {
      "cell_type": "code",
      "source": [
        "images[0][2][7][6]"
      ],
      "metadata": {
        "id": "w1hSQSRDLQHf",
        "colab": {
          "base_uri": "https://localhost:8080/"
        },
        "outputId": "06819299-a47c-4e25-e00a-753e29a65d51"
      },
      "execution_count": null,
      "outputs": [
        {
          "output_type": "execute_result",
          "data": {
            "text/plain": [
              "tensor(0.8745)"
            ]
          },
          "metadata": {},
          "execution_count": 15
        }
      ]
    },
    {
      "cell_type": "code",
      "source": [
        "images[0][0][7][6]"
      ],
      "metadata": {
        "colab": {
          "base_uri": "https://localhost:8080/"
        },
        "id": "8rip4LOPFo_W",
        "outputId": "8e77861d-4a55-4728-e291-109b2b81e981"
      },
      "execution_count": null,
      "outputs": [
        {
          "output_type": "execute_result",
          "data": {
            "text/plain": [
              "tensor(0.8275)"
            ]
          },
          "metadata": {},
          "execution_count": 16
        }
      ]
    },
    {
      "cell_type": "code",
      "source": [
        "# Find the blue color's intensity in pixel 7,6 in 1st image\n",
        "images[0][2][7][6]"
      ],
      "metadata": {
        "id": "7nAwlro1nWaa",
        "colab": {
          "base_uri": "https://localhost:8080/"
        },
        "outputId": "90b2e518-78a3-4c22-a5f0-fa183a639ef5"
      },
      "execution_count": null,
      "outputs": [
        {
          "output_type": "execute_result",
          "data": {
            "text/plain": [
              "tensor(-0.1922)"
            ]
          },
          "metadata": {},
          "execution_count": 26
        }
      ]
    },
    {
      "cell_type": "code",
      "source": [
        "#Simplify the indexing\n",
        "images[0,2,7,6]"
      ],
      "metadata": {
        "colab": {
          "base_uri": "https://localhost:8080/"
        },
        "id": "ivxYjtv0nr96",
        "outputId": "349499e6-63eb-4e5e-b4cc-c992588b8b5b"
      },
      "execution_count": null,
      "outputs": [
        {
          "output_type": "execute_result",
          "data": {
            "text/plain": [
              "tensor(-0.1922)"
            ]
          },
          "metadata": {},
          "execution_count": 22
        }
      ]
    },
    {
      "cell_type": "code",
      "source": [
        "# show images\n",
        "imshow(torchvision.utils.make_grid(images))"
      ],
      "metadata": {
        "colab": {
          "base_uri": "https://localhost:8080/",
          "height": 193
        },
        "id": "N9EoKw20nsDg",
        "outputId": "11985aa5-17b9-49ab-c699-82acdfb96006"
      },
      "execution_count": null,
      "outputs": [
        {
          "output_type": "display_data",
          "data": {
            "text/plain": [
              "<Figure size 640x480 with 1 Axes>"
            ],
            "image/png": "[encoded data removed]"
          },
          "metadata": {}
        }
      ]
    },
    {
      "cell_type": "code",
      "source": [
        "print(images[0])"
      ],
      "metadata": {
        "id": "nG5TGAINnsTM",
        "colab": {
          "base_uri": "https://localhost:8080/"
        },
        "outputId": "6dffacce-e9c4-4856-9815-8a3635dbdf5c"
      },
      "execution_count": null,
      "outputs": [
        {
          "output_type": "stream",
          "name": "stdout",
          "text": [
            "tensor([[[ 0.8902,  0.4588, -0.2627,  ...,  0.9922,  0.9373,  1.0000],\n",
            "         [ 0.7804,  0.4745, -0.2000,  ...,  0.7569,  0.7176,  0.9451],\n",
            "         [ 0.7569,  0.5451, -0.1529,  ...,  0.1451,  0.6314,  0.6863],\n",
            "         ...,\n",
            "         [-0.2235, -0.1843, -0.0824,  ...,  0.3725,  0.7412,  0.6235],\n",
            "         [-0.2863, -0.1765, -0.1529,  ...,  0.3176,  0.7098,  0.6549],\n",
            "         [-0.2627, -0.2392, -0.1765,  ...,  0.2549,  0.5294,  0.6392]],\n",
            "\n",
            "        [[ 0.9059,  0.4588, -0.2941,  ...,  0.9922,  0.9373,  1.0000],\n",
            "         [ 0.7804,  0.4510, -0.2392,  ...,  0.7569,  0.7176,  0.9529],\n",
            "         [ 0.7490,  0.5059, -0.2078,  ...,  0.1451,  0.6235,  0.6784],\n",
            "         ...,\n",
            "         [-0.1059, -0.0745,  0.0196,  ...,  0.3804,  0.7255,  0.6157],\n",
            "         [-0.1451, -0.0510, -0.0431,  ...,  0.3490,  0.6706,  0.6627],\n",
            "         [-0.1059, -0.0980, -0.0510,  ...,  0.2314,  0.4980,  0.6392]],\n",
            "\n",
            "        [[ 0.9059,  0.1608, -0.6627,  ...,  0.9843,  0.9373,  1.0000],\n",
            "         [ 0.7569,  0.1686, -0.6471,  ...,  0.7176,  0.6784,  0.9137],\n",
            "         [ 0.6941,  0.2157, -0.6471,  ..., -0.0039,  0.4824,  0.5373],\n",
            "         ...,\n",
            "         [ 0.0431,  0.0667,  0.1373,  ...,  0.4039,  0.7098,  0.3804],\n",
            "         [ 0.0431,  0.1059,  0.0902,  ...,  0.4431,  0.6941,  0.6314],\n",
            "         [ 0.1137,  0.1059,  0.1294,  ...,  0.2863,  0.5137,  0.7098]]])\n"
          ]
        }
      ]
    },
    {
      "cell_type": "code",
      "source": [
        "print(labels)"
      ],
      "metadata": {
        "id": "a9uLrzf6jXZb",
        "colab": {
          "base_uri": "https://localhost:8080/"
        },
        "outputId": "2268b3e0-c0cb-46b3-f608-deda589d3ca2"
      },
      "execution_count": null,
      "outputs": [
        {
          "output_type": "stream",
          "name": "stdout",
          "text": [
            "tensor([8, 6, 4, 3])\n"
          ]
        }
      ]
    },
    {
      "cell_type": "code",
      "source": [],
      "metadata": {
        "id": "UJc07OAUjrxV"
      },
      "execution_count": null,
      "outputs": []
    }
  ]
}